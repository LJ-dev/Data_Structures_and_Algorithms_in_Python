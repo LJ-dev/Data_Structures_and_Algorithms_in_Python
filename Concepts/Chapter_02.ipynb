{
  "cells": [
    {
      "cell_type": "markdown",
      "metadata": {
        "collapsed": true,
        "pycharm": {
          "name": "#%% md\n"
        }
      },
      "source": "# Chapter 02\n\n## Class Definitions\nIn python, every data is an instance of some class.\n"
    },
    {
      "cell_type": "code",
      "execution_count": 13,
      "outputs": [
        {
          "name": "stdout",
          "text": [
            "list\nstr\ndict\n"
          ],
          "output_type": "stream"
        }
      ],
      "source": "print(list().__class__.__name__)\nprint(str().__class__.__name__)\nprint(dict().__class__.__name__)",
      "metadata": {
        "pycharm": {
          "metadata": false,
          "name": "#%%\n",
          "is_executing": false
        }
      }
    },
    {
      "cell_type": "code",
      "execution_count": 22,
      "outputs": [
        {
          "name": "stdout",
          "text": [
            "type\n"
          ],
          "output_type": "stream"
        }
      ],
      "source": "print(list().__class__.__class__.__name__)",
      "metadata": {
        "pycharm": {
          "metadata": false,
          "name": "#%%\n",
          "is_executing": false
        }
      }
    },
    {
      "cell_type": "markdown",
      "source": "The `self` identifier explicitly identifies the instance that a method is invoked in class.\n",
      "metadata": {
        "pycharm": {
          "metadata": false,
          "name": "#%% md\n"
        }
      }
    },
    {
      "cell_type": "code",
      "execution_count": 24,
      "outputs": [],
      "source": "class CreditCard:\n    \"\"\"A consumer credit card\"\"\"\n    \n    def __init__(self, customer, bank, acnt, limit):\n        \"\"\"Create a new credit card instance.\n        \n        The initial balance is zero.\n        \n        :param customer: the name of the customer \n        :param bank: the name of the bank\n        :param acnt: the account identifier\n        :param limit: credit limit\n        \"\"\"\n        \n        self._customer \u003d customer\n        self._bank \u003d bank\n        self._account \u003d acnt\n        self._limit \u003d limit\n        self._balance \u003d 0\n        \n    def get_customer(self):\n        \"\"\"Return name of the customer\"\"\"\n        return self._customer\n    \n    def get_bank(self):\n        \"\"\"Return the bank\u0027s name.\"\"\"\n        return self._bank\n    \n    def get_account(self):\n        \"\"\"Return the card identifying number (typically stored as a string.\"\"\"\n        return self._account\n    \n    def get_limit(self):\n        \"\"\"Return current credit limit.\"\"\"\n        return self._limit\n    \n    def get_balance(self):\n        \"\"\"Return current balance.\"\"\"\n        return self._balance\n    \n    def charge(self, price):\n        \"\"\"Charge given price to the card, assuming sufficient credit limit.\n        \n        Return True if charge was processed; False if charge was denied.\n        \"\"\"\n        \n        if price + self._balance \u003e self._limit:\n            return False\n        else:\n            self._balance +\u003d price\n            return True\n    \n    def make_payment(self, amount):\n        \"\"\"Process customer payment that reduces balance.\"\"\"\n        self._balance -\u003d amount ",
      "metadata": {
        "pycharm": {
          "metadata": false,
          "name": "#%%\n",
          "is_executing": false
        }
      }
    },
    {
      "cell_type": "markdown",
      "source": "Python interpreter automatically binds the instance upon which the method is invoked to the `self` parameter.\n",
      "metadata": {
        "pycharm": {
          "metadata": false,
          "name": "#%% md\n"
        }
      }
    },
    {
      "cell_type": "code",
      "execution_count": 27,
      "outputs": [
        {
          "data": {
            "text/plain": "\u003c__main__.CreditCard at 0x7f3bc6366a20\u003e"
          },
          "metadata": {},
          "output_type": "execute_result",
          "execution_count": 27
        }
      ],
      "source": "cc \u003d CreditCard(\u0027John Doe\u0027, \u0027Bank\u0027, \u00271234 5678\u0027, 1000)\ncc",
      "metadata": {
        "pycharm": {
          "metadata": false,
          "name": "#%%\n",
          "is_executing": false
        }
      }
    },
    {
      "cell_type": "markdown",
      "source": "In class, `__init__` method works as the **constructor** of the class. Also, single leading underscore in the name of a data member, such as `_balance`, implies that it is intended as **nonpublic**. Users of a class should not directly access such members.\n\nFor better encapsulation, it is mostly better to treat all data members as nonpublic and provide accessors, to provide a user of our class read-only access to a trait, and update methods for updating its memebers.\n\n### Operator overloading and Python\u0027s Special Methods\nBy default, operators can not work on classes unless special methods are defined. You can see detailed info at [here](https://docs.python.org/3/reference/datamodel.html#special-method-names). Python also supports non-operator overloads. For example, `str` invokes `__str__()` and `bool` invokes `__bool__()`. However, we should not carelessly assume that Python will manage all the implications. Defining `__eq__` will support syntax `a \u003d\u003d b`, but it does not affect the evaluation of a syntax `a !\u003d b`, which should be defined by `__ne__`. In similar context, defining `__eq__` and `__lt__` does not imply semantics for a `a \u003c\u003d b `.\n\n",
      "metadata": {
        "pycharm": {
          "metadata": false,
          "name": "#%% md\n"
        }
      }
    }
  ],
  "metadata": {
    "language_info": {
      "codemirror_mode": {
        "name": "ipython",
        "version": 2
      },
      "file_extension": ".py",
      "mimetype": "text/x-python",
      "name": "python",
      "nbconvert_exporter": "python",
      "pygments_lexer": "ipython2",
      "version": "2.7.6"
    },
    "kernelspec": {
      "name": "python3",
      "language": "python",
      "display_name": "Python 3"
    }
  },
  "nbformat": 4,
  "nbformat_minor": 0
}