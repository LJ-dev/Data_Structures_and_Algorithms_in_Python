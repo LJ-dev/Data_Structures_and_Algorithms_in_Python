{
  "cells": [
    {
      "cell_type": "markdown",
      "metadata": {
        "collapsed": true,
        "pycharm": {
          "name": "#%% md\n"
        }
      },
      "source": "# Chapter 02\n\n## Class Definitions\nIn python, every data is an instance of some class."
    },
    {
      "cell_type": "markdown",
      "source": "### Example: Credit Card Class",
      "metadata": {
        "pycharm": {
          "metadata": false,
          "name": "#%% md\n"
        }
      }
    },
    {
      "cell_type": "code",
      "execution_count": 54,
      "outputs": [
        {
          "name": "stdout",
          "text": [
            "list\nstr\ndict\n"
          ],
          "output_type": "stream"
        }
      ],
      "source": "print(list().__class__.__name__)\nprint(str().__class__.__name__)\nprint(dict().__class__.__name__)",
      "metadata": {
        "pycharm": {
          "metadata": false,
          "name": "#%%\n",
          "is_executing": false
        }
      }
    },
    {
      "cell_type": "code",
      "execution_count": 55,
      "outputs": [
        {
          "name": "stdout",
          "text": [
            "type\n"
          ],
          "output_type": "stream"
        }
      ],
      "source": "print(list().__class__.__class__.__name__)",
      "metadata": {
        "pycharm": {
          "metadata": false,
          "name": "#%%\n",
          "is_executing": false
        }
      }
    },
    {
      "cell_type": "markdown",
      "source": "The `self` identifier explicitly identifies the instance that a method is invoked in class.\n",
      "metadata": {
        "pycharm": {
          "metadata": false,
          "name": "#%% md\n"
        }
      }
    },
    {
      "cell_type": "code",
      "execution_count": 56,
      "outputs": [],
      "source": "class CreditCard:\n    \"\"\"A consumer credit card\"\"\"\n    \n    def __init__(self, customer, bank, acnt, limit):\n        \"\"\"Create a new credit card instance.\n        \n        The initial balance is zero.\n        \n        :param customer: the name of the customer \n        :param bank: the name of the bank\n        :param acnt: the account identifier\n        :param limit: credit limit\n        \"\"\"\n        \n        self._customer \u003d customer\n        self._bank \u003d bank\n        self._account \u003d acnt\n        self._limit \u003d limit\n        self._balance \u003d 0\n        \n    def get_customer(self):\n        \"\"\"Return name of the customer\"\"\"\n        return self._customer\n    \n    def get_bank(self):\n        \"\"\"Return the bank\u0027s name.\"\"\"\n        return self._bank\n    \n    def get_account(self):\n        \"\"\"Return the card identifying number (typically stored as a string.\"\"\"\n        return self._account\n    \n    def get_limit(self):\n        \"\"\"Return current credit limit.\"\"\"\n        return self._limit\n    \n    def get_balance(self):\n        \"\"\"Return current balance.\"\"\"\n        return self._balance\n    \n    def charge(self, price):\n        \"\"\"Charge given price to the card, assuming sufficient credit limit.\n        \n        Return True if charge was processed; False if charge was denied.\n        \"\"\"\n        \n        if price + self._balance \u003e self._limit:\n            return False\n        else:\n            self._balance +\u003d price\n            return True\n    \n    def make_payment(self, amount):\n        \"\"\"Process customer payment that reduces balance.\"\"\"\n        self._balance -\u003d amount ",
      "metadata": {
        "pycharm": {
          "metadata": false,
          "name": "#%%\n",
          "is_executing": false
        }
      }
    },
    {
      "cell_type": "markdown",
      "source": "Python interpreter automatically binds the instance upon which the method is invoked to the `self` parameter.\n",
      "metadata": {
        "pycharm": {
          "metadata": false,
          "name": "#%% md\n"
        }
      }
    },
    {
      "cell_type": "code",
      "execution_count": 57,
      "outputs": [
        {
          "data": {
            "text/plain": "\u003c__main__.CreditCard at 0x7fddd8196358\u003e"
          },
          "metadata": {},
          "output_type": "execute_result",
          "execution_count": 57
        }
      ],
      "source": "cc \u003d CreditCard(\u0027John Doe\u0027, \u0027Bank\u0027, \u00271234 5678\u0027, 1000)\ncc",
      "metadata": {
        "pycharm": {
          "metadata": false,
          "name": "#%%\n",
          "is_executing": false
        }
      }
    },
    {
      "cell_type": "markdown",
      "source": "In class, `__init__` method works as the **constructor** of the class. Also, single leading underscore in the name of a data member, such as `_balance`, implies that it is intended as **nonpublic**. Users of a class should not directly access such members.\n\nFor better encapsulation, it is mostly better to treat all data members as nonpublic and provide accessors, to provide a user of our class read-only access to a trait, and update methods for updating its memebers.\n\n### Operator overloading and Python\u0027s Special Methods\nBy default, operators can not work on classes unless special methods are defined. You can see detailed info at [here](https://docs.python.org/3/reference/datamodel.html#special-method-names). Python also supports non-operator overloads. For example, `str` invokes `__str__()` and `bool` invokes `__bool__()`. However, we should not carelessly assume that Python will manage all the implications. Defining `__eq__` will support syntax `a \u003d\u003d b`, but it does not affect the evaluation of a syntax `a !\u003d b`, which should be defined by `__ne__`. In similar context, defining `__eq__` and `__lt__` does not imply semantics for a `a \u003c\u003d b `.\n\n### Example: Multidimensional Vector Class",
      "metadata": {
        "pycharm": {
          "metadata": false,
          "name": "#%% md\n"
        }
      }
    },
    {
      "cell_type": "code",
      "execution_count": 58,
      "outputs": [],
      "source": "class Vector:\n    \"\"\"Represent a vector in a multidimensional space\"\"\"\n    \n    def __init__(self, d):\n        \"\"\"Create d-dimensional vector of zeros.\"\"\"\n        self._coords \u003d [0] * d\n        \n    def __len__(self):\n        \"\"\"Return the dimension of the vector.\"\"\"\n        return len(self._coords)\n    \n    def __getitem__(self, j):\n        \"\"\"Return jth coordinate of vector.\"\"\"\n        return self._coords[j]\n    \n    def __setitem__(self, j, val):\n        \"\"\"Set jth coordinate of vector to given value.\"\"\"\n        self._coords[j] \u003d val\n    \n    def __add__(self, other):\n        \"\"\"Return sum of two vectors.\"\"\"\n        if len(self) !\u003d len(other):\n            raise ValueError(\u0027dimensions must agree\u0027)\n        result \u003d Vector(len(self))\n        for j in range(len(self)):\n            result[j] \u003d self[j] + other[j]\n        return result\n    \n    def __eq__(self, other):\n        \"\"\"Return True if vectgor has same coordinates as other.\"\"\"\n        return self._coords \u003d\u003d other._coords\n    \n    def __ne__(self, other):\n        \"\"\"Return True if vector differs from other.\"\"\"\n        return not self \u003d\u003d other  # This rely on existing __eq__ definition\n    \n    def __str__(self):\n        \"\"\"Produce string representation of vector.\"\"\"\n        return \u0027\u003c\u0027 + str(self._coords)[1:-1] + \u0027\u003e\u0027\n    \n    def __repr__(self):\n        \"\"\"For representation.\"\"\"\n        return \u0027\u003c\u0027 + str(self._coords)[1:-1] + \u0027\u003e\u0027",
      "metadata": {
        "pycharm": {
          "metadata": false,
          "name": "#%%\n",
          "is_executing": false
        }
      }
    },
    {
      "cell_type": "code",
      "execution_count": 59,
      "outputs": [
        {
          "data": {
            "text/plain": "\u003c0, 0, 10, 0, 0\u003e"
          },
          "metadata": {},
          "output_type": "execute_result",
          "execution_count": 59
        }
      ],
      "source": "x \u003d Vector(5)\nx[2] \u003d 10\nx",
      "metadata": {
        "pycharm": {
          "metadata": false,
          "name": "#%%\n",
          "is_executing": false
        }
      }
    },
    {
      "cell_type": "code",
      "execution_count": 60,
      "outputs": [
        {
          "data": {
            "text/plain": "\u003c0, 0, 20, 0, 0\u003e"
          },
          "metadata": {},
          "output_type": "execute_result",
          "execution_count": 60
        }
      ],
      "source": "x + x",
      "metadata": {
        "pycharm": {
          "metadata": false,
          "name": "#%%\n",
          "is_executing": false
        }
      }
    },
    {
      "cell_type": "code",
      "execution_count": 61,
      "outputs": [
        {
          "traceback": [
            "\u001b[0;31m---------------------------------------------------------------------------\u001b[0m",
            "\u001b[0;31mTypeError\u001b[0m                                 Traceback (most recent call last)",
            "\u001b[0;32m\u003cipython-input-61-e9d2971022a0\u003e\u001b[0m in \u001b[0;36m\u003cmodule\u003e\u001b[0;34m\u001b[0m\n\u001b[0;32m----\u003e 1\u001b[0;31m \u001b[0mx\u001b[0m \u001b[0;34m*\u001b[0m \u001b[0mx\u001b[0m  \u001b[0;31m# Gives error since it is not defined through `__mul__`\u001b[0m\u001b[0;34m\u001b[0m\u001b[0;34m\u001b[0m\u001b[0m\n\u001b[0m",
            "\u001b[0;31mTypeError\u001b[0m: unsupported operand type(s) for *: \u0027Vector\u0027 and \u0027Vector\u0027"
          ],
          "ename": "TypeError",
          "evalue": "unsupported operand type(s) for *: \u0027Vector\u0027 and \u0027Vector\u0027",
          "output_type": "error"
        }
      ],
      "source": "x * x  # Gives error since it is not defined through `__mul__`",
      "metadata": {
        "pycharm": {
          "metadata": false,
          "name": "#%%\n",
          "is_executing": false
        }
      }
    },
    {
      "cell_type": "markdown",
      "source": "### Iterators\nAn **Iterator** for a collection provides one key behavior: It supports a special method named `__next__` that returns the next element of the collection, if any, or raises a `StopIteration` exception to indicate that there are no further elements.\n\nPython automatically supports iterator implementation if both `__len__` and `__getitem__` is defined.",
      "metadata": {
        "pycharm": {
          "metadata": false,
          "name": "#%% md\n"
        }
      }
    },
    {
      "cell_type": "code",
      "execution_count": null,
      "outputs": [],
      "source": "class SequenceIterator:\n    \"\"\"An iterator for any of Python\u0027s sequence types.\"\"\"\n    \n    def __init__(self, sequence):\n        \"\"\"Create an iterator for the given sequence.\"\"\"\n        self._seq \u003d sequence  # keep a reference to the underlying data\n        self._k \u003d -1  # will increment to 0 on first call to next\n    \n    def __next__(self):\n        \"\"\"Return the next element, or else raise StopIteration error.\"\"\"\n        self._k +\u003d 1\n        if self._k \u003c len(self._seq):\n            return(self._seq[self._k])\n        else:\n            raise StopIteration()\n        \n    def __iter__(self):\n        \"\"\"By convention, an iterator must return itself as an iterator.\"\"\"\n        return self",
      "metadata": {
        "pycharm": {
          "metadata": false,
          "name": "#%%\n",
          "is_executing": true
        }
      }
    },
    {
      "cell_type": "code",
      "execution_count": 62,
      "outputs": [
        {
          "data": {
            "text/plain": "\u003c__main__.SequenceIterator at 0x7fddd8196438\u003e"
          },
          "metadata": {},
          "output_type": "execute_result",
          "execution_count": 62
        }
      ],
      "source": "custom_iter \u003d SequenceIterator([4, 2, 1])\niter(custom_iter)",
      "metadata": {
        "pycharm": {
          "metadata": false,
          "name": "#%%\n",
          "is_executing": false
        }
      }
    },
    {
      "cell_type": "code",
      "execution_count": 63,
      "outputs": [
        {
          "name": "stdout",
          "text": [
            "5\n2\n1\n2\n7\n"
          ],
          "output_type": "stream"
        }
      ],
      "source": "for i in SequenceIterator([5, 2, 1, 2, 7]):\n    print(i)",
      "metadata": {
        "pycharm": {
          "metadata": false,
          "name": "#%%\n",
          "is_executing": false
        }
      }
    },
    {
      "cell_type": "markdown",
      "source": "### Example: Range Class\nThis example mimics Pthon\u0027s built-in `range` class. There is a big difference between Python 3\u0027s `range` and Python 2\u0027s range. Basically, Python 3\u0027s `range` works like a Python 2\u0027s `xrange`.\n\nThe core difference between them is that Python 3\u0027s range employs **lazy evaluation**, which does not create a new list instance, which might be expensive if the list is huge, effectively repesenting the desired range of elements without storing them in memory.",
      "metadata": {
        "pycharm": {
          "metadata": false,
          "name": "#%% md\n"
        }
      }
    },
    {
      "cell_type": "code",
      "execution_count": 64,
      "outputs": [],
      "source": "class Range:\n    \"\"\"A class that mimic\u0027s the built-in range class.\"\"\"\n    \n    def __init__(self, start, stop\u003dNone, step\u003d1):\n        \"\"\"Initialize a Range Instance\n        Semantics is similar to built-in range class\n        \"\"\"\n        if step \u003d\u003d 0:\n            raise ValueError(\u0027step cannot be 0\u0027)\n        \n        if stop is None:\n            start, stop \u003d 0, start\n            \n        # calculate the effective length once\n        self._length \u003d max(0, (stop - start + step -1) // step)\n        \n        # nned knowledge of start and step (but not step) to support _-getitem__\n        self._start \u003d start\n        self._step \u003d step\n        \n    def __len__(self):\n        \"\"\"Return number of entries in the range.\"\"\"\n        return self._length\n    \n    def __getitem__(self, k):\n        \"\"\"Return entry at index k (using standard interpretation if negative.)\"\"\"\n        if k \u003c 0:\n            k +\u003d len(self)\n        \n        if not 0 \u003c\u003d k \u003c self._length:\n            raise IndexError(\u0027index out of range\u0027)\n        \n        return self._start + k * self._step",
      "metadata": {
        "pycharm": {
          "metadata": false,
          "name": "#%%\n",
          "is_executing": false
        }
      }
    },
    {
      "cell_type": "markdown",
      "source": "## Inheritance\nIn object-oriented programming, the mechanism for a modular and hierarchical organization is a technique known as **inheritance**. This allows a new class to be defined based upon an existing class as the starting point. In object-oriented terminology, the existing class is typically described as the **base class**, **parent class**, or **superclass**, while the newly defined classs is known as the **subclass** or **child class**.",
      "metadata": {
        "pycharm": {
          "metadata": false,
          "name": "#%% md\n"
        }
      }
    },
    {
      "cell_type": "markdown",
      "source": "### Extending the CreditCard Class",
      "metadata": {
        "pycharm": {
          "metadata": false,
          "name": "#%% md\n"
        }
      }
    },
    {
      "cell_type": "code",
      "execution_count": 70,
      "outputs": [],
      "source": "class PredatoryCreditCard(CreditCard):\n    \"\"\"An extension to CreditCard that compounds interest and fees.\"\"\"\n    \n    def __init__(self, customer, bank, acnt, limit, apr):\n        \"\"\"Create a new predatory credit card instance.\n        \n        The initial balance is zero.\n        customer    the name of the customer\n        bank        the name of the bank\n        acnt        the acount identifier\n        limit       credit limit\n        apr         annual percentage rate\n        \"\"\"\n\n        super().__init__(customer, bank, acnt, limit)\n        self._apr \u003d apr\n        \n    def charge(self, price):\n        \"\"\"Charge given price to the card, assuming sufficient credit limit.\n        \n        Return True if charge was processed.\n        Return False and assess $5 fee if charge is denied.\n        \"\"\"\n        \n        success \u003d super().charge(price)\n        if not success:\n            self._balance +\u003d 5\n        return success\n    \n    def process_month(self):\n        \"\"\"Assess monthly interest on outstanding balance.\"\"\"\n        if self._balance \u003e 0:\n            # if positive balance, convert APR to monthly multiplicative factor\n            monthly_factor \u003d pow(1 + self._apr, 1/12)\n            self._balance *\u003d monthly_factor",
      "metadata": {
        "pycharm": {
          "metadata": false,
          "name": "#%%\n",
          "is_executing": false
        }
      }
    },
    {
      "cell_type": "code",
      "source": "predatory \u003d PredatoryCreditCard(\u0027John\u0027, \u0027AA Bank\u0027, \u00271234 5678\u0027, 100000000, 0.03)\npredatory.charge(1000)\npredatory.get_balance()",
      "metadata": {
        "pycharm": {
          "metadata": false,
          "name": "#%% \n",
          "is_executing": false
        }
      },
      "execution_count": 77,
      "outputs": [
        {
          "data": {
            "text/plain": "1000"
          },
          "metadata": {},
          "output_type": "execute_result",
          "execution_count": 77
        }
      ]
    },
    {
      "cell_type": "code",
      "execution_count": 78,
      "outputs": [
        {
          "data": {
            "text/plain": "1002.4662697723037"
          },
          "metadata": {},
          "output_type": "execute_result",
          "execution_count": 78
        }
      ],
      "source": "predatory.process_month()\npredatory.get_balance()",
      "metadata": {
        "pycharm": {
          "metadata": false,
          "name": "#%%\n",
          "is_executing": false
        }
      }
    },
    {
      "cell_type": "markdown",
      "source": "#### Protected Members\nIn Python, names beginning with a single underscore are conventionally akin to **protected**, which are accessible to subclasses, but not to the general public, while names beginning with a double underscore (other than special methods) are akin to **private**, which are not accessible to both subclasses and general public.\n\nHowever, this access control is not supported formally by Python. Keep in mind that it is just a convention. So if you are trying to use some attributes followed by an underscore, think twice that it could compromise the class\u0027s designer\u0027s intention.",
      "metadata": {
        "pycharm": {
          "metadata": false,
          "name": "#%% md\n"
        }
      }
    },
    {
      "cell_type": "markdown",
      "source": "### Hierarchy of Numeric Progresions\n",
      "metadata": {
        "pycharm": {
          "metadata": false,
          "name": "#%% md\n"
        }
      }
    }
  ],
  "metadata": {
    "language_info": {
      "codemirror_mode": {
        "name": "ipython",
        "version": 2
      },
      "file_extension": ".py",
      "mimetype": "text/x-python",
      "name": "python",
      "nbconvert_exporter": "python",
      "pygments_lexer": "ipython2",
      "version": "2.7.6"
    },
    "kernelspec": {
      "name": "python3",
      "language": "python",
      "display_name": "Python 3"
    }
  },
  "nbformat": 4,
  "nbformat_minor": 0
}