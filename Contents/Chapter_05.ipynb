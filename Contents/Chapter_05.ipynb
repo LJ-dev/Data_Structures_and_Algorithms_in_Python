{
 "cells": [
  {
   "cell_type": "markdown",
   "metadata": {
    "collapsed": true,
    "pycharm": {
     "name": "#%% md\n"
    }
   },
   "source": [
    "# Chapter 05: Array-Based Sequences"
   ]
  },
  {
   "cell_type": "markdown",
   "source": [
    "## 5.1 Python's Sequence Types\n",
    "In this chapter, we explore Python's various \"sequence\" classes, namely the builin **list**, **tuple**, and **str** classes. There is singificant commonality betwween these classes, most notably: each supports \n",
    "indexing to access an individual element of a sequence, using a syntax such as `seq[k]` and each uses a low-level concept known as an **array** to represent the sequence.\n",
    "However, there are significant differences in the abstractions that these classes represent, and in the way that instances of theese classes are represented internally by Python. \n",
    "\n",
    "### Public Behaviors\n",
    "### Implementation Details\n",
    "### Asymptotic and Experimental Analyses\n"
   ],
   "metadata": {
    "collapsed": false
   }
  },
  {
   "cell_type": "markdown",
   "source": [
    "## 5.2 Low-Level Arrays"
   ],
   "metadata": {
    "collapsed": false,
    "pycharm": {
     "name": "#%% md\n"
    }
   }
  }
 ],
 "metadata": {
  "language_info": {
   "codemirror_mode": {
    "name": "ipython",
    "version": 2
   },
   "file_extension": ".py",
   "mimetype": "text/x-python",
   "name": "python",
   "nbconvert_exporter": "python",
   "pygments_lexer": "ipython2",
   "version": "2.7.6"
  },
  "kernelspec": {
   "name": "python3",
   "language": "python",
   "display_name": "Python 3"
  },
  "pycharm": {
   "stem_cell": {
    "cell_type": "raw",
    "source": [],
    "metadata": {
     "collapsed": false
    }
   }
  }
 },
 "nbformat": 4,
 "nbformat_minor": 0
}