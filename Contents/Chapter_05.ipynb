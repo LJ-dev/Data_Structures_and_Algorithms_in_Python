{
  "cells": [
    {
      "cell_type": "markdown",
      "metadata": {
        "collapsed": true,
        "pycharm": {
          "name": "#%% md\n"
        }
      },
      "source": [
        "# Chapter 05: Array-Based Sequences"
      ]
    },
    {
      "cell_type": "markdown",
      "source": "## 5.1 Python\u0027s Sequence Types\nThis chapter covers Python\u0027s \"sequence\" classes, namely the built-in **list**, **tuple**, and **str** classes.\nSignificant commonality between theses classes are they support indexing to access an individual element of a sequence, using a syntax such as \n`seq[k]`, and each uses a low-level conceopt known as an **array** to represent the sequence. Regardless of this commonality,\nthere is a significant difference in their abstractions that these classes represent, and in the way that instances of these classes are represented internally by Python.\n\n\n### Public Behaviors\n### Implementation Details\n### Asymptotic and Experimental Analyses\n",
      "metadata": {
        "collapsed": false,
        "pycharm": {}
      }
    },
    {
      "cell_type": "markdown",
      "source": "## 5.2 Low-Level Arrays\nIt is necessary to understand low-level copmuter architecture to understand the sequence types. \n\n[MEMORY FIGURE]\n\nEachbyte of memory is associated with a unique number that serves as its address. Memory addresses are typically coordinated\nwith the physical layout of the memory system.\n\nDespite the sequential nature of the numbering system, computer can access memory by its address and that\u0027s why we call it a\nRAM(random access memory). It is just easy to retrieve byte #3845 as it is to retrieve byte #1. In other words, we can say\nany individual byte of memory can be stored or retrieved in $O(1)$ time.\n\nIn general, a programming language keeps track of the association between an identifier and the memory address in which the associated value is stored.\nA group of related variables can be stored one after another in a contiguous portion of the computer\u0027s memory. We will denote such a representation as an **array**.\n\n\n### 5.2.1 Referential Arrays\nPython represents a list or tuple instance using an internal storage mechanism of array of object **references**. At the \nlowest level, what is stored is a consecutive sequence of memory addresses at which the elements of the sequence reside.\nWith this, Python can handle each element in fixed-length way even though the individual items may vary the number of bits used.\n\n[Fig 5.5]\n[Fig 5.6]\n\nHowever, with a syntax such as `backup\u003dlist(primes)`, produces a new list that is a **shallow copy**. If elements are immutable, this point is moot. If the \ncontents of the list were of a mutable type, a **deep copy**, meaning a new list with *new* elements, can be produced by using \n`deep copy` function from the `copy` module.\n\n[Summary for deepcopy and shallow copy]\n\n\n### 5.2.2 Compact Arrays in Python\nCompact array is storing the bits that represent the primary data. IT has several advantages over referential structures in terms of computing performance. Most sginificantly, the \noverall memory usage will be much lower for a compact structure because there is no overhead devoted to the explicit storage of the sequence of memory references.\nThat is, a referential structure will typically use 64-bits for the memory address stored in the array, on top of whatever \nnumber of bits are used to represent a compact array within a string typically requires 2 bytes. If each character were \nstored independently as a one-character string, there would be significantly more bytes used. Python\nallows to query the actual number of bytes being used for primary storage of any object by using `getsizeof` function of the `sys` module.\n\nAnother advantage to a compact structure for high-performance computing is that the primary data are stored consecutively in memory. Note that\nthis is not the case for a referential structure. Because of the workings of the cache and memory hierarchies of computers, it is often\nadvantageous to have data stored in memory near other data that might be used in the same computations.\n\nDespite the apparent inefficiencies of referential structures, we will generally be content with the convenience of Python\u0027s list and tuples in this book.\nThe only place in which we consider alternatives will be in memory management section, which focuses on the impact of memory usage on data structures and algorithms. Python provides several means for creating compact arrays of various types.\n\nPrimary support for compact arrays is a module named `array`. That module defines a class, also named `array`, providing compact storage for arrays of primitive data types.\n",
      "metadata": {
        "collapsed": false,
        "pycharm": {
          "name": "#%% md\n"
        }
      }
    },
    {
      "cell_type": "code",
      "execution_count": 16,
      "outputs": [
        {
          "name": "stdout",
          "text": [
            "104\n84\n"
          ],
          "output_type": "stream"
        }
      ],
      "source": "import array\nimport sys\nx \u003d [1, 3, 5, 7, 9]\nprint(sys.getsizeof(x))\ny \u003d array.array(\u0027i\u0027, [1, 2, 3, 4, 5])\nprint(sys.getsizeof(y))",
      "metadata": {
        "pycharm": {
          "metadata": false,
          "name": "#%%\n",
          "is_executing": false
        }
      }
    },
    {
      "cell_type": "markdown",
      "source": "The public interface for the `array` class conforms mostly to that part of a Python list. However, the constructur for the `array` class\nrequires a **type code** as a first parameter, which is a character  that designates the type of data that will be stored in the array.\n\n\n## 5.3 Dynamic Arrays and Amortization\n",
      "metadata": {
        "pycharm": {
          "metadata": false,
          "name": "#%% md\n"
        }
      }
    }
  ],
  "metadata": {
    "language_info": {
      "codemirror_mode": {
        "name": "ipython",
        "version": 2
      },
      "file_extension": ".py",
      "mimetype": "text/x-python",
      "name": "python",
      "nbconvert_exporter": "python",
      "pygments_lexer": "ipython2",
      "version": "2.7.6"
    },
    "kernelspec": {
      "name": "python3",
      "language": "python",
      "display_name": "Python 3"
    },
    "pycharm": {
      "stem_cell": {
        "cell_type": "raw",
        "source": [],
        "metadata": {
          "collapsed": false
        }
      }
    }
  },
  "nbformat": 4,
  "nbformat_minor": 0
}