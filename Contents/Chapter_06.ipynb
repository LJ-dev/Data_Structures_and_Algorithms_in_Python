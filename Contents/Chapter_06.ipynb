{
 "cells": [
  {
   "cell_type": "markdown",
   "metadata": {},
   "source": [
    "# Chapter 06: Stacks, Queues, and Deques"
   ]
  },
  {
   "cell_type": "markdown",
   "metadata": {},
   "source": [
    "## 6.1 Stacks"
   ]
  },
  {
   "cell_type": "markdown",
   "metadata": {},
   "source": [
    "A **stack** is a collection of objects that are inserted and removed according to the ***last-in, first-out (LIFO)*** principle."
   ]
  },
  {
   "cell_type": "markdown",
   "metadata": {},
   "source": [
    "#### Example 6.1:\n",
    "\n",
    "Internet web browsers store the addresses of recently visited sites in stack. Each time a user visits a new site, that site's address is \"pushed\" onto the stack of addresses. The browser then allows the user to \"pop\" back to previously visited sites using the \"back\" button."
   ]
  },
  {
   "cell_type": "markdown",
   "metadata": {},
   "source": [
    "#### Example 6.2:\n",
    "Text editors usually provide an \"undo\" mechanism that cancels recent editing operations and reverts to former states of a document. This undo operation can be accomplished by keeping text changes in a stack."
   ]
  },
  {
   "cell_type": "markdown",
   "metadata": {},
   "source": [
    "### 6.1.1 The Stack Abstract Data Type"
   ]
  },
  {
   "cell_type": "markdown",
   "metadata": {},
   "source": [
    "Fomally, a stack is an abstrat data type (ADT) such that an instance $\\mathcal{S}$ supports the folloiwng two methods:"
   ]
  },
  {
   "cell_type": "markdown",
   "metadata": {},
   "source": [
    "* `S.push(e)`: Add element `e` to the top of stack `S`.\n",
    "* `S.pop()`: Remove and return the top element form the stack `S`; an error occurs if the stack is empty."
   ]
  },
  {
   "cell_type": "markdown",
   "metadata": {},
   "source": [
    "Additionally, let us define the following accessor methods for convenience:\n",
    "\n",
    "* `S.top()`: Return a reference to the top element of stack `S`, without removing itl an error occurs if the stack is empty.\n",
    "* `S.is_empty()`: Return `True` if stack `S` does not contain any elements.\n",
    "* `len(S)`: Return the number of elements in stack `S`"
   ]
  },
  {
   "cell_type": "markdown",
   "metadata": {},
   "source": [
    "By convention, we assume that a newly created stack is empty, and that there is no a priori bound on the capacity of the stack. Elements added to the stack can have arbitrary type."
   ]
  },
  {
   "cell_type": "markdown",
   "metadata": {},
   "source": [
    "### 6.1.2 Simple Array-Based Stack Implementation"
   ]
  },
  {
   "cell_type": "markdown",
   "metadata": {},
   "source": [
    "The `list` class already supports adding an element to the end with `append` method, and removing the last element with the `pop` method, so it is natural to align the top of the stack at the end of the list.\n",
    "\n",
    "Although a aprogrammer could directly use the `list` class in place ofa formal stack class, lists also include behaviors that would break the abstraction that the stack ADT represents. ALso, the terminology used by the `list` class does not precisely align with traditional nomenclature for a stack ADT, in particular the distinction between `append` and `push`. Instead, we demonstrate how to use a list for internal storage while providing a public interface consistent with a stack."
   ]
  },
  {
   "cell_type": "markdown",
   "metadata": {},
   "source": [
    "#### The Adapter Pattern\n",
    "\n",
    "The ***adapter*** design pattern applies to any context where we effectively want to modify an existing class so that its methods match those of a related, but different, class or interface. One general way to apply the adapter pattern is to define a new class in such a way that it contains an instance of the existing class as a hidden field, and then to implement each method of the new class using methods of this hidden instance variable. By applying the adapter pattern in this way, we have created a new class that performs some of the same functions as an existing class, but repackaged in a more convenient way. In the context of tehe stack ADT, we c an adapt Python's list class using the correspondence shown in \n",
    "\n",
    "|stack Method|Realization with Python List|\n",
    "|---|---|\n",
    "|`S.push(e)`|`L.append(e)`|\n",
    "|`S.pop()`|`L.pop()`|\n",
    "|`S.top()`|`L[-1]`|\n",
    "|`S.is_empty()`|`len(L)==0`|\n",
    "|`len(S)`|`len(L)`|"
   ]
  },
  {
   "cell_type": "markdown",
   "metadata": {},
   "source": [
    "#### Implementing a Stack Using a Python List"
   ]
  },
  {
   "cell_type": "markdown",
   "metadata": {},
   "source": []
  }
 ],
 "metadata": {
  "kernelspec": {
   "display_name": "Python 3",
   "language": "python",
   "name": "python3"
  },
  "language_info": {
   "codemirror_mode": {
    "name": "ipython",
    "version": 3
   },
   "file_extension": ".py",
   "mimetype": "text/x-python",
   "name": "python",
   "nbconvert_exporter": "python",
   "pygments_lexer": "ipython3",
   "version": "3.6.7"
  }
 },
 "nbformat": 4,
 "nbformat_minor": 2
}
