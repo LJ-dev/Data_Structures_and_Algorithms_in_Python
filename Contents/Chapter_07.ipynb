{
 "cells": [
  {
   "cell_type": "markdown",
   "metadata": {},
   "source": [
    "# Chapter 07: Linked Lists"
   ]
  },
  {
   "cell_type": "markdown",
   "metadata": {},
   "source": [
    "Motivation: Python's lsit can work as a classic data structtures such as, stack, queue and dequeue and so on. However, there are notable disadvantages on them.\n",
    "\n",
    "1. Length of dynamic array can be longer than the actual number of elements that it stores, which will lead to waste of memory.\n",
    "2. Amortized bounds for operations may be unacceptable in real-time systems.\n",
    "3. Insertions and deletions at interior positions of an array are expensive."
   ]
  },
  {
   "cell_type": "markdown",
   "metadata": {},
   "source": [
    "A linked list employs a more distributed representation in which a lightweight object, known as a node, is allocated for each element. Each node maintains a reference to its element and one or more references to neighboring nodes in order to collectively represent the linear order of the sequence."
   ]
  },
  {
   "cell_type": "markdown",
   "metadata": {},
   "source": [
    "## 7.1 Singly Linked Lists"
   ]
  },
  {
   "cell_type": "markdown",
   "metadata": {},
   "source": [
    "A **singly linked list**, in its simplest form, is a collection of **nodes** that collectively form a linear sequence. Each node stores a reference to an object that is an element of the sequence, as well as a reference to the next node of the list."
   ]
  },
  {
   "cell_type": "markdown",
   "metadata": {},
   "source": [
    "![Fig7.1](../images/Fig7.1.png)"
   ]
  },
  {
   "cell_type": "markdown",
   "metadata": {},
   "source": [
    "The first and last node of a linked list are known as the **head** and **tail** of the list, respectively. By starting at the head, and moving from one node to another by following each node's `next` referecne, we can reach the tail of the list. This process is known as **traversing** the linked list. Because the next reference of a node can be viewed as a **link** or **pointer** to another node, the process of traversing a list is also known as **link hopping** or **pointer hopping**."
   ]
  },
  {
   "cell_type": "markdown",
   "metadata": {},
   "source": [
    "Minimally the linked list instance must keep a reference to the head of the list. WIhtout an explicit reference to the head, there would be no way to locate that node. There is not an absolute need to store a direct reference to the tail of the list, as it could otherise be located by starting at the head and traversing the rest of the list. However, storing an explicit reference to the tail node is a common convenience to avoid such a traversal. For the similar reason, it is common to keep a count of the toal number of nodes that comprise the list to avoid the need to traverse the list to count the nodes."
   ]
  },
  {
   "cell_type": "markdown",
   "metadata": {},
   "source": [
    "#### Inserting an Element at the HEad of a Singly Linked List"
   ]
  },
  {
   "cell_type": "markdown",
   "metadata": {},
   "source": [
    "```\n",
    "Algorithm add_first(L, e):\n",
    "    newest = Node(e)\n",
    "    newest.next = L.head\n",
    "    L.head = newest\n",
    "    L.size = L.size + 1\n",
    "```"
   ]
  },
  {
   "cell_type": "markdown",
   "metadata": {},
   "source": [
    "#### Inserting an Element at the Tail of a Singly Linked List"
   ]
  },
  {
   "cell_type": "markdown",
   "metadata": {},
   "source": [
    "```\n",
    "Algorithm add_last(L, e):\n",
    "    newest = Node(e)\n",
    "    newest.next = None\n",
    "    L.tail.next = newest\n",
    "    L.tail = newest\n",
    "    L.size = L.size + 1\n",
    "```"
   ]
  },
  {
   "cell_type": "markdown",
   "metadata": {},
   "source": [
    "#### Removing an Element from a Singly Linked List"
   ]
  },
  {
   "cell_type": "markdown",
   "metadata": {},
   "source": [
    "```\n",
    "Algorithm remove_first(L):\n",
    "    if L.head is None then\n",
    "        indicate an error: the list is empty.\n",
    "    L.head = L.head.next\n",
    "    L.size = L.size - 1\n",
    "```"
   ]
  },
  {
   "cell_type": "markdown",
   "metadata": {},
   "source": [
    "However, we cannot easily delete the lasat node of a singly linked list. Even if we maintain a `tail` reference directly to the last node of the list, we must be able to access the node ***before*** the last node in order to remove the last node. ***Doubly linked*** list can handle this problem seamlessly."
   ]
  },
  {
   "cell_type": "markdown",
   "metadata": {},
   "source": [
    "### 7.1.1 Implementing a Stack with a Singly Linked List"
   ]
  },
  {
   "cell_type": "code",
   "execution_count": 3,
   "metadata": {},
   "outputs": [],
   "source": [
    "class Empty(Exception):\n",
    "    pass"
   ]
  },
  {
   "cell_type": "code",
   "execution_count": 4,
   "metadata": {},
   "outputs": [],
   "source": [
    "class LinkedStack:\n",
    "    \"\"\"LIFO Stack implementatino using a singly linked list for storage\"\"\"\n",
    "    \n",
    "    class _Node:\n",
    "        __slots__ = '_element', '_next'\n",
    "        \n",
    "        def __init__(self, element, nxt):\n",
    "            self._element = element\n",
    "            self._next = nxt\n",
    "        \n",
    "    \n",
    "    def __init__(self):\n",
    "        self._head = None\n",
    "        self._size = 0\n",
    "        \n",
    "    def __len__(self):\n",
    "        return self._size\n",
    "    \n",
    "    def is_empty(self):\n",
    "        return self._size == 0\n",
    "    \n",
    "    def push(self, e):\n",
    "        self._head = self._Node(e, self._head)\n",
    "        self._size += 1\n",
    "        \n",
    "    def top(self):\n",
    "        if self.is_empty():\n",
    "            raise Empty('Stack is empty')\n",
    "        return self._head._element\n",
    "    \n",
    "    def pop(self):\n",
    "        if self.is_empty():\n",
    "            raise Empty('Stack is empty')\n",
    "        answer = self._head._element\n",
    "        self._head = self._head._next\n",
    "        self._size -= 1\n",
    "        return answer"
   ]
  },
  {
   "cell_type": "markdown",
   "metadata": {},
   "source": [
    "|Operation|Running TIme|\n",
    "|---|---|\n",
    "|`S.push(e)`|$O(1)$|\n",
    "|`S.pop()`|$O(1)$|\n",
    "|`S.top()`|$O(1)$|\n",
    "|`len(S)`|$O(1)$|\n",
    "|`S.is_empty()`|$O(1)$|"
   ]
  },
  {
   "cell_type": "markdown",
   "metadata": {},
   "source": [
    "We can see that all of the mtehods complete in ***worst-case*** constant time. This is in contrast to the amortized bounds for the `ArrayStack` that were given before."
   ]
  },
  {
   "cell_type": "code",
   "execution_count": null,
   "metadata": {},
   "outputs": [],
   "source": []
  }
 ],
 "metadata": {
  "kernelspec": {
   "display_name": "PyCharm (Data_Structures_and_Algorithms_in_Python)",
   "language": "python",
   "name": "pycharm-1115615c"
  },
  "language_info": {
   "codemirror_mode": {
    "name": "ipython",
    "version": 3
   },
   "file_extension": ".py",
   "mimetype": "text/x-python",
   "name": "python",
   "nbconvert_exporter": "python",
   "pygments_lexer": "ipython3",
   "version": "3.6.7"
  }
 },
 "nbformat": 4,
 "nbformat_minor": 2
}
