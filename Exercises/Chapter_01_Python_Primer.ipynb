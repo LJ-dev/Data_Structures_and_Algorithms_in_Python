{
 "cells": [
  {
   "cell_type": "markdown",
   "metadata": {},
   "source": [
    "# Exercises"
   ]
  },
  {
   "cell_type": "markdown",
   "metadata": {},
   "source": [
    "## R-1.11 \n",
    "Demonstrate how to use Python’s list comprehension syntax to produce the list [1, 2, 4, 8, 16, 32, 64, 128, 256]."
   ]
  },
  {
   "cell_type": "markdown",
   "metadata": {},
   "source": [
    "### answer"
   ]
  },
  {
   "cell_type": "code",
   "execution_count": 1,
   "metadata": {},
   "outputs": [
    {
     "data": {
      "text/plain": [
       "[1, 2, 4, 8, 16, 32, 64, 128, 256]"
      ]
     },
     "execution_count": 1,
     "metadata": {},
     "output_type": "execute_result"
    }
   ],
   "source": [
    "[2**i for i in range(9)]"
   ]
  },
  {
   "cell_type": "markdown",
   "metadata": {},
   "source": [
    "## C-1.18\n",
    "Demonstrate how to use Python’s list comprehension syntax to produce the list [0, 2, 6, 12, 20, 30, 42, 56, 72, 90]."
   ]
  },
  {
   "cell_type": "markdown",
   "metadata": {},
   "source": [
    "### answer"
   ]
  },
  {
   "cell_type": "markdown",
   "metadata": {},
   "source": [
    "Series can be represented as follow:\n",
    "$$\n",
    "\\begin{array}{ll}\n",
    "a_1 = 1\\\\\n",
    "a_2 = b_1 = 2\\\\\n",
    "a_3 = b_2 = 6\\\\\n",
    "a_4 = b_3 = 12\\\\\n",
    "a_5 = b_4 = 20\\\\\n",
    "\\vdots\n",
    "\\end{array}\n",
    "$$\n",
    "\n",
    "Now, we can think series $b_n$ as arithmetic sequence:\n",
    "$$\n",
    "\\begin{array}{ll}\n",
    "b_n &= b_1 + (n-1)\\cdot d \\\\\n",
    "    &= 2 + (n-1)\\cdot 2\\\\\n",
    "    &= 2n\n",
    "\\end{array}{}\n",
    "$$\n",
    "\n",
    "Therefore series $a_n$ can be written as:\n",
    "$$\n",
    "\\begin{array}{ll}\n",
    "a_n & = a_1 + \\displaystyle\\sum_{n=1}^{n-1} b_n\\\\\n",
    "&= 0 + 2 \\cdot \\frac{(n-1) \\cdot n}{2}\\\\\n",
    "&= n^2 - n\\\\\n",
    "\\end{array}\n",
    "$$"
   ]
  },
  {
   "cell_type": "code",
   "execution_count": 2,
   "metadata": {},
   "outputs": [
    {
     "data": {
      "text/plain": [
       "[0, 2, 6, 12, 20, 30, 42, 56, 72, 90]"
      ]
     },
     "execution_count": 2,
     "metadata": {},
     "output_type": "execute_result"
    }
   ],
   "source": [
    "[i**2 - i for i in range(1,11)]"
   ]
  },
  {
   "cell_type": "markdown",
   "metadata": {},
   "source": [
    "## C-1.28\n",
    "The **p-norm** of a vector $v = (v_1, v_2, \\cdots, v_n)$ in $n$-dimensional space is defined as\n",
    "$$\n",
    "||v|| = \\sqrt[p]{v_1^p + v_2^p + \\cdots + v_n^p}\n",
    "$$\n",
    "For the special case of $p = 2$, this results in the traditional Euclidean\n",
    "norm, which represents the length of the vector. For example, the Euclidean\n",
    "norm of a two-dimensional vector with coordinates $(4,3)$ has a\n",
    "Euclidean norm of $\\sqrt{4^2 + 3^2} = \\sqrt{16 + 9} = \\sqrt{25} = 5$. Give an implementation\n",
    "of a function named norm such that $norm(v, p)$ returns the p-norm\n",
    "value of $v$ and $norm(v)$ returns the Euclidean norm of $v$. You may assume\n",
    "that $v$ is a list of numbers."
   ]
  },
  {
   "cell_type": "markdown",
   "metadata": {},
   "source": [
    "### answer"
   ]
  },
  {
   "cell_type": "code",
   "execution_count": 3,
   "metadata": {
    "collapsed": true
   },
   "outputs": [],
   "source": [
    "import numpy as np\n",
    "def norm(v,p):\n",
    "    v = np.array(v)\n",
    "    power = v**p\n",
    "    return power.sum()**(1/p)"
   ]
  },
  {
   "cell_type": "code",
   "execution_count": 4,
   "metadata": {},
   "outputs": [
    {
     "name": "stdout",
     "output_type": "stream",
     "text": [
      "norm(v,2): 5.0\n",
      "norm(v,3): 4.49794144528\n"
     ]
    }
   ],
   "source": [
    "v = [4,3]\n",
    "print('norm(v,2):' , norm(v,2)) # Euclidean norm\n",
    "print('norm(v,3):' , norm(v,3))"
   ]
  },
  {
   "cell_type": "markdown",
   "metadata": {},
   "source": [
    "## P-1.35\n",
    "The **birthday paradox** says that the probability that two people in a room\n",
    "will have the same birthday is more than half, provided $n$, the number of\n",
    "people in the room, is more than 23. This property is not really a paradox,\n",
    "but many people find it surprising. Design a Python program that can test\n",
    "this paradox by a series of experiments on randomly generated birthdays,\n",
    "which test this paradox for $n = 5,10,15,20, . . . ,100$."
   ]
  },
  {
   "cell_type": "markdown",
   "metadata": {},
   "source": [
    "### answer"
   ]
  },
  {
   "cell_type": "markdown",
   "metadata": {},
   "source": [
    "We can think the probability of having same birth day as: \n",
    "$$ \n",
    "p(\\text{same birthday}) = 1 - p(\\text{different birthday})\n",
    "$$\n",
    "\n",
    "We will calculate the probability that all $n$ birthdays are different.\n",
    "\n",
    "Let's consider the case when $n = 3$:\n",
    "$$\n",
    "p = 1 \\cdot \\left(1 - \\frac{1}{365}\\right) \\cdot \\left(1- \\frac{2}{365}\\right)\n",
    "$$\n",
    "\n",
    "In case of $n = 4$:\n",
    "$$\n",
    "p = 1 \\cdot \\left(1 - \\frac{1}{365}\\right) \\cdot \\left(1- \\frac{2}{365}\\right) \\cdot \\left(1- \\frac{3}{365}\\right)\n",
    "$$\n",
    "\n",
    "Now, we can generalize the equation for the case of $n$ people:\n",
    "$$\n",
    "\\begin{array}{ll}\n",
    "p &= 1 \\cdot \\left(1 - \\frac{1}{365}\\right) \\cdot \\left(1- \\frac{2}{365}\\right) \\cdot \\left(1- \\frac{3}{365}\\right) \\cdots \\left(1- \\frac{n-1}{365}\\right)\\\\\n",
    "&= \\frac{_{365}P_{n}}{365^n}\n",
    "\\end{array}\n",
    "$$"
   ]
  },
  {
   "cell_type": "code",
   "execution_count": 5,
   "metadata": {
    "collapsed": true
   },
   "outputs": [],
   "source": [
    "from scipy.misc import factorial, comb\n",
    "def same_birth_prob(n):\n",
    "    return 1 - factorial(n)*comb(365,n)/(365**n) #Probability of having same birth day in n people in the room"
   ]
  },
  {
   "cell_type": "markdown",
   "metadata": {},
   "source": [
    "For case of $n=10$:"
   ]
  },
  {
   "cell_type": "code",
   "execution_count": 6,
   "metadata": {},
   "outputs": [
    {
     "data": {
      "text/plain": [
       "0.11694817771107746"
      ]
     },
     "execution_count": 6,
     "metadata": {},
     "output_type": "execute_result"
    }
   ],
   "source": [
    "same_birth_prob(10)"
   ]
  },
  {
   "cell_type": "markdown",
   "metadata": {},
   "source": [
    "For case of $n = 20$:"
   ]
  },
  {
   "cell_type": "code",
   "execution_count": 7,
   "metadata": {},
   "outputs": [
    {
     "data": {
      "text/plain": [
       "0.4114383835806472"
      ]
     },
     "execution_count": 7,
     "metadata": {},
     "output_type": "execute_result"
    }
   ],
   "source": [
    "same_birth_prob(20)"
   ]
  },
  {
   "cell_type": "markdown",
   "metadata": {},
   "source": [
    "For case of $n = 23$:"
   ]
  },
  {
   "cell_type": "code",
   "execution_count": 8,
   "metadata": {},
   "outputs": [
    {
     "data": {
      "text/plain": [
       "0.5072972343239677"
      ]
     },
     "execution_count": 8,
     "metadata": {},
     "output_type": "execute_result"
    }
   ],
   "source": [
    "same_birth_prob(23)"
   ]
  },
  {
   "cell_type": "markdown",
   "metadata": {},
   "source": [
    "Let's visualize the result of this."
   ]
  },
  {
   "cell_type": "code",
   "execution_count": 9,
   "metadata": {
    "collapsed": true
   },
   "outputs": [],
   "source": [
    "birth_prob = [same_birth_prob(i) for i in range(1,70)]"
   ]
  },
  {
   "cell_type": "code",
   "execution_count": 10,
   "metadata": {},
   "outputs": [
    {
     "data": {
      "text/plain": [
       "<matplotlib.text.Text at 0x19438cb5668>"
      ]
     },
     "execution_count": 10,
     "metadata": {},
     "output_type": "execute_result"
    },
    {
     "data": {
      "image/png": "[encoded data removed]",
      "text/plain": [
       "<matplotlib.figure.Figure at 0x194392abba8>"
      ]
     },
     "metadata": {},
     "output_type": "display_data"
    }
   ],
   "source": [
    "import matplotlib.pyplot as plt\n",
    "%matplotlib inline\n",
    "plt.plot(birth_prob)\n",
    "plt.grid()\n",
    "plt.xlabel('Number of People')\n",
    "plt.ylabel('Probability of having same birthday')\n",
    "plt.title('Birthday Paradox')"
   ]
  }
 ],
 "metadata": {
  "kernelspec": {
   "display_name": "Python 3",
   "language": "python",
   "name": "python3"
  },
  "language_info": {
   "codemirror_mode": {
    "name": "ipython",
    "version": 3.0
   },
   "file_extension": ".py",
   "mimetype": "text/x-python",
   "name": "python",
   "nbconvert_exporter": "python",
   "pygments_lexer": "ipython3",
   "version": "3.6.0"
  }
 },
 "nbformat": 4,
 "nbformat_minor": 0
}