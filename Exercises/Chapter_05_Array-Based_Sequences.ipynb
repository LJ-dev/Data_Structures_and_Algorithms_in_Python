{
 "cells": [
  {
   "cell_type": "markdown",
   "metadata": {},
   "source": [
    "# Chapter 05"
   ]
  },
  {
   "cell_type": "markdown",
   "metadata": {},
   "source": [
    "## Modules"
   ]
  },
  {
   "cell_type": "code",
   "execution_count": 31,
   "metadata": {},
   "outputs": [],
   "source": [
    "import numpy as np\n",
    "import pandas as pd\n",
    "import ctypes\n",
    "import time\n",
    "import matplotlib.pyplot as plt\n",
    "import seaborn as sns\n",
    "%matplotlib inline"
   ]
  },
  {
   "cell_type": "markdown",
   "metadata": {},
   "source": [
    "## Exercises"
   ]
  },
  {
   "cell_type": "markdown",
   "metadata": {},
   "source": [
    "### R-5.1"
   ]
  },
  {
   "cell_type": "markdown",
   "metadata": {},
   "source": [
    "Execute the following experiments and compare the results on your system."
   ]
  },
  {
   "cell_type": "code",
   "execution_count": 9,
   "metadata": {},
   "outputs": [
    {
     "name": "stdout",
     "output_type": "stream",
     "text": [
      "Length:   0; Size in bytes:   64\n",
      "Length:   1; Size in bytes:   96\n",
      "Length:   2; Size in bytes:   96\n",
      "Length:   3; Size in bytes:   96\n",
      "Length:   4; Size in bytes:   96\n",
      "Length:   5; Size in bytes:  128\n",
      "Length:   6; Size in bytes:  128\n",
      "Length:   7; Size in bytes:  128\n",
      "Length:   8; Size in bytes:  128\n",
      "Length:   9; Size in bytes:  192\n",
      "Length:  10; Size in bytes:  192\n",
      "Length:  11; Size in bytes:  192\n",
      "Length:  12; Size in bytes:  192\n",
      "Length:  13; Size in bytes:  192\n",
      "Length:  14; Size in bytes:  192\n",
      "Length:  15; Size in bytes:  192\n",
      "Length:  16; Size in bytes:  192\n",
      "Length:  17; Size in bytes:  264\n",
      "Length:  18; Size in bytes:  264\n",
      "Length:  19; Size in bytes:  264\n",
      "Length:  20; Size in bytes:  264\n",
      "Length:  21; Size in bytes:  264\n",
      "Length:  22; Size in bytes:  264\n",
      "Length:  23; Size in bytes:  264\n",
      "Length:  24; Size in bytes:  264\n",
      "Length:  25; Size in bytes:  264\n",
      "Length:  26; Size in bytes:  344\n",
      "Length:  27; Size in bytes:  344\n",
      "Length:  28; Size in bytes:  344\n",
      "Length:  29; Size in bytes:  344\n",
      "Length:  30; Size in bytes:  344\n",
      "Length:  31; Size in bytes:  344\n",
      "Length:  32; Size in bytes:  344\n",
      "Length:  33; Size in bytes:  344\n",
      "Length:  34; Size in bytes:  344\n",
      "Length:  35; Size in bytes:  344\n",
      "Length:  36; Size in bytes:  432\n",
      "Length:  37; Size in bytes:  432\n",
      "Length:  38; Size in bytes:  432\n",
      "Length:  39; Size in bytes:  432\n",
      "Length:  40; Size in bytes:  432\n",
      "Length:  41; Size in bytes:  432\n",
      "Length:  42; Size in bytes:  432\n",
      "Length:  43; Size in bytes:  432\n",
      "Length:  44; Size in bytes:  432\n",
      "Length:  45; Size in bytes:  432\n",
      "Length:  46; Size in bytes:  432\n",
      "Length:  47; Size in bytes:  528\n",
      "Length:  48; Size in bytes:  528\n",
      "Length:  49; Size in bytes:  528\n"
     ]
    }
   ],
   "source": [
    "n = 50\n",
    "import sys\n",
    "data = []\n",
    "for k in range(n):\n",
    "    a = len(data)\n",
    "    b = sys.getsizeof(data)\n",
    "    print(\"Length: {0:3d}; Size in bytes: {1:4d}\".format(a, b))\n",
    "    data.append(None)"
   ]
  },
  {
   "cell_type": "markdown",
   "metadata": {},
   "source": [
    "### R-5.4"
   ]
  },
  {
   "cell_type": "markdown",
   "metadata": {},
   "source": [
    "Our `DynamicArray` class below does not support use of negative indices with `__getitem__`. Update that method to better match the semantics of a Python list."
   ]
  },
  {
   "cell_type": "code",
   "execution_count": 79,
   "metadata": {},
   "outputs": [],
   "source": [
    "class DynamicArray:\n",
    "    \"\"\"A dynamic array class akin to a simplified Python list\"\"\"\n",
    "    \n",
    "    def __init__(self):\n",
    "        \"\"\"Create an empty array.\"\"\"\n",
    "        self._n = 0\n",
    "        self._capacity = 1\n",
    "        self._A = self._make_array(self._capacity)\n",
    "        \n",
    "    def __len__(self):\n",
    "        \"\"\"Return number of elements stored in the array\"\"\"\n",
    "        return self._n\n",
    "    \n",
    "    def __getitem__(self, k):\n",
    "        if 0<= k < self._n:\n",
    "            return self._A[k]\n",
    "        else:\n",
    "            return self._A[k - 1]\n",
    "        \n",
    "    def append(self, obj):\n",
    "        \"\"\"Add object to end of the array.\"\"\"\n",
    "        if self._n == self._capacity:\n",
    "            self._resize(2 * self._capacity)\n",
    "        self._A[self._n] = obj\n",
    "        self._n += 1\n",
    "    \n",
    "    def _resize(self, c):\n",
    "        \"\"\"Resize internal array to capacity c.\"\"\"\n",
    "        B = self._make_array(c)\n",
    "        for k in range(self._n):\n",
    "            B[k] = self._A[k]\n",
    "        self._A = B\n",
    "        self._capacity = c\n",
    "        \n",
    "    def _make_array(self, c):\n",
    "        \"\"\"Return new array with capacity c.\"\"\"\n",
    "        return (c * ctypes.py_object)()"
   ]
  },
  {
   "cell_type": "code",
   "execution_count": 80,
   "metadata": {},
   "outputs": [],
   "source": [
    "darray = DynamicArray()"
   ]
  },
  {
   "cell_type": "code",
   "execution_count": 81,
   "metadata": {},
   "outputs": [],
   "source": [
    "darray.append(4)\n",
    "darray.append(1)\n",
    "darray.append(3)"
   ]
  },
  {
   "cell_type": "code",
   "execution_count": 82,
   "metadata": {},
   "outputs": [
    {
     "name": "stdout",
     "output_type": "stream",
     "text": [
      "4\n",
      "1\n",
      "3\n",
      "4\n",
      "1\n",
      "3\n"
     ]
    }
   ],
   "source": [
    "print(darray[-3])\n",
    "print(darray[-2])\n",
    "print(darray[-1])\n",
    "print(darray[0])\n",
    "print(darray[1])\n",
    "print(darray[2])"
   ]
  },
  {
   "cell_type": "markdown",
   "metadata": {},
   "source": [
    "### R-5.6\n",
    "\n",
    "Our implementation of inser for the `DynamicArray` class, as given below, has the following inefficiency. in the case when a resize occurs, the resize operation takes time to copy all the elements from an old array to a new array, and then the subsequent loop in the body of `insert` shifts many of those elements. Give an improved implemenation of the `insert` method, so that, in the case of a resize, the elements are shifted into their final position during that operation,m therby avoiding the subsequent shifting."
   ]
  },
  {
   "cell_type": "code",
   "execution_count": 505,
   "metadata": {},
   "outputs": [],
   "source": [
    "class DynamicArray:\n",
    "    \"\"\"A dynamic array class akin to a simplified Python list\"\"\"\n",
    "    \n",
    "    def __init__(self):\n",
    "        \"\"\"Create an empty array.\"\"\"\n",
    "        self._n = 0\n",
    "        self._capacity = 1\n",
    "        self._A = self._make_array(self._capacity)\n",
    "        \n",
    "    def __len__(self):\n",
    "        \"\"\"Return number of elements stored in the array\"\"\"\n",
    "        return self._n\n",
    "    \n",
    "    def __getitem__(self, k):\n",
    "        if 0<= k < self._n:\n",
    "            return self._A[k]\n",
    "        else:\n",
    "            return self._A[k - 1]\n",
    "        \n",
    "    def append(self, obj):\n",
    "        \"\"\"Add object to end of the array.\"\"\"\n",
    "        if self._n == self._capacity:\n",
    "            self._resize(2 * self._capacity)\n",
    "        self._A[self._n] = obj\n",
    "        self._n += 1\n",
    "    \n",
    "    def _resize(self, c):\n",
    "        \"\"\"Resize internal array to capacity c.\"\"\"\n",
    "        B = self._make_array(c)\n",
    "        for k in range(self._n):\n",
    "            B[k] = self._A[k]\n",
    "        self._A = B\n",
    "        self._capacity = c\n",
    "        \n",
    "    def _make_array(self, c):\n",
    "        \"\"\"Return new array with capacity c.\"\"\"\n",
    "        return (c * ctypes.py_object)()\n",
    "    \n",
    "    def insert(self, k, value):\n",
    "        if self._n == self._capacity:\n",
    "            self._resize(2 * self._capacity)\n",
    "        for j in range(self._n, k, -1):\n",
    "            self._A[j] = self._A[j-1]\n",
    "        self._A[k] = value\n",
    "        self._n += 1\n",
    "    \n",
    "    def improved_insert(self, k, value):\n",
    "        if self._n == self._capacity:\n",
    "            tmp = self._make_array(2 * self._capacity)\n",
    "            self._capacity *= 2\n",
    "            tmp[:k] = self._A[:k]\n",
    "            tmp[k + 1: k + len(self._A[k:]) + 1] = self._A[k:]\n",
    "            self._A = tmp\n",
    "        else:\n",
    "            self._A[k + 1 : self._n + 1] = self._A[k: self._n]\n",
    "        self._A[k] = value\n",
    "        self._n += 1"
   ]
  },
  {
   "cell_type": "code",
   "execution_count": 506,
   "metadata": {},
   "outputs": [],
   "source": [
    "insert_num = [i * 500 for i in range(1, 10)]\n",
    "time_orig = []\n",
    "time_impr = []"
   ]
  },
  {
   "cell_type": "code",
   "execution_count": 507,
   "metadata": {},
   "outputs": [],
   "source": [
    "darray = DynamicArray()\n",
    "darray.append(4)\n",
    "darray.append(3)\n",
    "darray.append(2)\n",
    "darray.append(1)\n",
    "darray.append(0)"
   ]
  },
  {
   "cell_type": "code",
   "execution_count": 508,
   "metadata": {},
   "outputs": [],
   "source": [
    "for trial in insert_num:\n",
    "    start = time.time()\n",
    "    for i in range(trial):\n",
    "        darray.insert(0, -1)\n",
    "    end = time.time()\n",
    "    time_orig.append(end-start)"
   ]
  },
  {
   "cell_type": "code",
   "execution_count": 509,
   "metadata": {
    "scrolled": false
   },
   "outputs": [
    {
     "name": "stdout",
     "output_type": "stream",
     "text": [
      "[0.05037236213684082, 0.3938136100769043, 1.2738392353057861, 2.974229335784912, 6.091444492340088, 11.64903998374939, 17.139135360717773, 25.954696655273438, 38.57468557357788]\n"
     ]
    }
   ],
   "source": [
    "print(time_orig)"
   ]
  },
  {
   "cell_type": "code",
   "execution_count": 510,
   "metadata": {
    "scrolled": true
   },
   "outputs": [],
   "source": [
    "darray = DynamicArray()\n",
    "darray.append(4)\n",
    "darray.append(3)\n",
    "darray.append(2)\n",
    "darray.append(1)\n",
    "darray.append(0)"
   ]
  },
  {
   "cell_type": "code",
   "execution_count": 511,
   "metadata": {
    "scrolled": false
   },
   "outputs": [],
   "source": [
    "for trial in insert_num:\n",
    "    start = time.time()\n",
    "    for i in range(trial):\n",
    "        darray.improved_insert(0, -1)\n",
    "    end = time.time()\n",
    "    time_impr.append(end-start)"
   ]
  },
  {
   "cell_type": "code",
   "execution_count": 512,
   "metadata": {},
   "outputs": [
    {
     "name": "stdout",
     "output_type": "stream",
     "text": [
      "[0.031148910522460938, 0.28533220291137695, 0.9067752361297607, 2.182908058166504, 4.228068828582764, 7.885552644729614, 11.82724642753601, 19.721515417099, 24.762032985687256]\n"
     ]
    }
   ],
   "source": [
    "print(time_impr)"
   ]
  },
  {
   "cell_type": "code",
   "execution_count": 518,
   "metadata": {},
   "outputs": [
    {
     "data": {
      "image/png": "[encoded data removed]",
      "text/plain": [
       "<Figure size 576x576 with 1 Axes>"
      ]
     },
     "metadata": {
      "needs_background": "light"
     },
     "output_type": "display_data"
    }
   ],
   "source": [
    "plt.figure(figsize=(8,8))\n",
    "plt.plot(insert_num, time_orig, label=\"original\")\n",
    "plt.plot(insert_num, time_impr, label=\"improved\")\n",
    "plt.legend()\n",
    "plt.grid()\n",
    "plt.ylabel('time elapsed(s)')\n",
    "plt.xlabel('# insert')\n",
    "plt.show()"
   ]
  },
  {
   "cell_type": "markdown",
   "metadata": {},
   "source": [
    "### C-5.13\n",
    "\n",
    "In the experiment of following code, we begin with an empty list. If `ata` were initially constructed with nonempty length, does this affect the sequence of values a which underlying array is expanded? Perform your own experiments, and commnet on any relationship you see between the initial length and the expansion sequence."
   ]
  },
  {
   "cell_type": "code",
   "execution_count": 522,
   "metadata": {},
   "outputs": [
    {
     "name": "stdout",
     "output_type": "stream",
     "text": [
      "Length:   0; Size in bytes:   64\n",
      "Length:   1; Size in bytes:   96\n",
      "Length:   2; Size in bytes:   96\n",
      "Length:   3; Size in bytes:   96\n",
      "Length:   4; Size in bytes:   96\n",
      "Length:   5; Size in bytes:  128\n",
      "Length:   6; Size in bytes:  128\n",
      "Length:   7; Size in bytes:  128\n",
      "Length:   8; Size in bytes:  128\n",
      "Length:   9; Size in bytes:  192\n",
      "Length:  10; Size in bytes:  192\n",
      "Length:  11; Size in bytes:  192\n",
      "Length:  12; Size in bytes:  192\n",
      "Length:  13; Size in bytes:  192\n",
      "Length:  14; Size in bytes:  192\n",
      "Length:  15; Size in bytes:  192\n",
      "Length:  16; Size in bytes:  192\n",
      "Length:  17; Size in bytes:  264\n",
      "Length:  18; Size in bytes:  264\n",
      "Length:  19; Size in bytes:  264\n",
      "Length:  20; Size in bytes:  264\n",
      "Length:  21; Size in bytes:  264\n",
      "Length:  22; Size in bytes:  264\n",
      "Length:  23; Size in bytes:  264\n",
      "Length:  24; Size in bytes:  264\n",
      "Length:  25; Size in bytes:  264\n",
      "Length:  26; Size in bytes:  344\n",
      "Length:  27; Size in bytes:  344\n",
      "Length:  28; Size in bytes:  344\n",
      "Length:  29; Size in bytes:  344\n"
     ]
    }
   ],
   "source": [
    "n = 30\n",
    "import sys\n",
    "data = []\n",
    "for k in range(n):\n",
    "    a = len(data)\n",
    "    b = sys.getsizeof(data)\n",
    "    print(\"Length: {0:3d}; Size in bytes: {1:4d}\".format(a, b))\n",
    "    data.append(None)"
   ]
  },
  {
   "cell_type": "code",
   "execution_count": 523,
   "metadata": {},
   "outputs": [
    {
     "name": "stdout",
     "output_type": "stream",
     "text": [
      "Length:  10; Size in bytes:  144\n",
      "Length:  11; Size in bytes:  208\n",
      "Length:  12; Size in bytes:  208\n",
      "Length:  13; Size in bytes:  208\n",
      "Length:  14; Size in bytes:  208\n",
      "Length:  15; Size in bytes:  208\n",
      "Length:  16; Size in bytes:  208\n",
      "Length:  17; Size in bytes:  208\n",
      "Length:  18; Size in bytes:  208\n",
      "Length:  19; Size in bytes:  280\n",
      "Length:  20; Size in bytes:  280\n",
      "Length:  21; Size in bytes:  280\n",
      "Length:  22; Size in bytes:  280\n",
      "Length:  23; Size in bytes:  280\n",
      "Length:  24; Size in bytes:  280\n",
      "Length:  25; Size in bytes:  280\n",
      "Length:  26; Size in bytes:  280\n",
      "Length:  27; Size in bytes:  280\n",
      "Length:  28; Size in bytes:  360\n",
      "Length:  29; Size in bytes:  360\n",
      "Length:  30; Size in bytes:  360\n",
      "Length:  31; Size in bytes:  360\n",
      "Length:  32; Size in bytes:  360\n",
      "Length:  33; Size in bytes:  360\n",
      "Length:  34; Size in bytes:  360\n",
      "Length:  35; Size in bytes:  360\n",
      "Length:  36; Size in bytes:  360\n",
      "Length:  37; Size in bytes:  360\n",
      "Length:  38; Size in bytes:  448\n",
      "Length:  39; Size in bytes:  448\n"
     ]
    }
   ],
   "source": [
    "n = 30\n",
    "import sys\n",
    "data = [None] * 10\n",
    "for k in range(n):\n",
    "    a = len(data)\n",
    "    b = sys.getsizeof(data)\n",
    "    print(\"Length: {0:3d}; Size in bytes: {1:4d}\".format(a, b))\n",
    "    data.append(None)"
   ]
  },
  {
   "cell_type": "code",
   "execution_count": 524,
   "metadata": {},
   "outputs": [
    {
     "name": "stdout",
     "output_type": "stream",
     "text": [
      "Length:  20; Size in bytes:  224\n",
      "Length:  21; Size in bytes:  296\n",
      "Length:  22; Size in bytes:  296\n",
      "Length:  23; Size in bytes:  296\n",
      "Length:  24; Size in bytes:  296\n",
      "Length:  25; Size in bytes:  296\n",
      "Length:  26; Size in bytes:  296\n",
      "Length:  27; Size in bytes:  296\n",
      "Length:  28; Size in bytes:  296\n",
      "Length:  29; Size in bytes:  296\n",
      "Length:  30; Size in bytes:  376\n",
      "Length:  31; Size in bytes:  376\n",
      "Length:  32; Size in bytes:  376\n",
      "Length:  33; Size in bytes:  376\n",
      "Length:  34; Size in bytes:  376\n",
      "Length:  35; Size in bytes:  376\n",
      "Length:  36; Size in bytes:  376\n",
      "Length:  37; Size in bytes:  376\n",
      "Length:  38; Size in bytes:  376\n",
      "Length:  39; Size in bytes:  376\n",
      "Length:  40; Size in bytes:  472\n",
      "Length:  41; Size in bytes:  472\n",
      "Length:  42; Size in bytes:  472\n",
      "Length:  43; Size in bytes:  472\n",
      "Length:  44; Size in bytes:  472\n",
      "Length:  45; Size in bytes:  472\n",
      "Length:  46; Size in bytes:  472\n",
      "Length:  47; Size in bytes:  472\n",
      "Length:  48; Size in bytes:  472\n",
      "Length:  49; Size in bytes:  472\n"
     ]
    }
   ],
   "source": [
    "n = 30\n",
    "import sys\n",
    "data = [None] * 20\n",
    "for k in range(n):\n",
    "    a = len(data)\n",
    "    b = sys.getsizeof(data)\n",
    "    print(\"Length: {0:3d}; Size in bytes: {1:4d}\".format(a, b))\n",
    "    data.append(None)"
   ]
  },
  {
   "cell_type": "markdown",
   "metadata": {},
   "source": [
    "From the test above, it seems the initial length of a list not only affects the sequence of expanding values but also confirms that Python's list does not rely on simple arithmetic or geometric progression while expanding the size of it."
   ]
  },
  {
   "cell_type": "markdown",
   "metadata": {},
   "source": [
    "### C-5.16\n",
    "\n",
    "Implement a `pop` method for the `DynamicArray` class, that removes the last element of the array, and that shrinks the capacity, $N$, of the array by half any time the number of elements in the array goes below $N/4$."
   ]
  },
  {
   "cell_type": "code",
   "execution_count": 2,
   "metadata": {},
   "outputs": [],
   "source": [
    "class DynamicArray:\n",
    "    \"\"\"A dynamic array class akin to a simplified Python list\"\"\"\n",
    "    \n",
    "    def __init__(self):\n",
    "        \"\"\"Create an empty array.\"\"\"\n",
    "        self._n = 0\n",
    "        self._capacity = 1\n",
    "        self._A = self._make_array(self._capacity)\n",
    "        \n",
    "    def __len__(self):\n",
    "        \"\"\"Return number of elements stored in the array\"\"\"\n",
    "        return self._n\n",
    "    \n",
    "    def __getitem__(self, k):\n",
    "        if 0<= k < self._n:\n",
    "            return self._A[k]\n",
    "        else:\n",
    "            return self._A[k - 1]\n",
    "        \n",
    "    def append(self, obj):\n",
    "        \"\"\"Add object to end of the array.\"\"\"\n",
    "        if self._n == self._capacity:\n",
    "            self._resize(2 * self._capacity)\n",
    "        self._A[self._n] = obj\n",
    "        self._n += 1\n",
    "    \n",
    "    def _resize(self, c):\n",
    "        \"\"\"Resize internal array to capacity c.\"\"\"\n",
    "        B = self._make_array(c)\n",
    "        for k in range(self._n):\n",
    "            B[k] = self._A[k]\n",
    "        self._A = B\n",
    "        self._capacity = c\n",
    "        \n",
    "    def _make_array(self, c):\n",
    "        \"\"\"Return new array with capacity c.\"\"\"\n",
    "        return (c * ctypes.py_object)()\n",
    "    \n",
    "    def insert(self, k, value):\n",
    "        if self._n == self._capacity:\n",
    "            self._resize(2 * self._capacity)\n",
    "        for j in range(self._n, k, -1):\n",
    "            self._A[j] = self._A[j-1]\n",
    "        self._A[k] = value\n",
    "        self._n += 1\n",
    "        \n",
    "    def pop(self):\n",
    "        value = x._A[self._n - 1]\n",
    "        x._A[self._n - 1] = None\n",
    "        self._n -= 1\n",
    "        if self._n < 0.25 * self._capacity:\n",
    "            print(\"Reducing capacity from {} to {}\".format(self._capacity, int(0.5 * self._capacity)))\n",
    "            self._resize(int(0.5 * self._capacity))        \n",
    "        return value"
   ]
  },
  {
   "cell_type": "code",
   "execution_count": 3,
   "metadata": {},
   "outputs": [],
   "source": [
    "x = DynamicArray()\n",
    "for i in range(200):\n",
    "    x.append(i)"
   ]
  },
  {
   "cell_type": "code",
   "execution_count": 4,
   "metadata": {},
   "outputs": [
    {
     "name": "stdout",
     "output_type": "stream",
     "text": [
      "200\n",
      "256\n"
     ]
    }
   ],
   "source": [
    "print(len(x))\n",
    "print(x._capacity)"
   ]
  },
  {
   "cell_type": "code",
   "execution_count": 5,
   "metadata": {},
   "outputs": [
    {
     "name": "stdout",
     "output_type": "stream",
     "text": [
      "Reducing capacity from 256 to 128\n",
      "Reducing capacity from 128 to 64\n",
      "Reducing capacity from 64 to 32\n"
     ]
    }
   ],
   "source": [
    "for i in range(192):\n",
    "    x.pop()"
   ]
  },
  {
   "cell_type": "code",
   "execution_count": 6,
   "metadata": {},
   "outputs": [
    {
     "name": "stdout",
     "output_type": "stream",
     "text": [
      "8\n",
      "32\n"
     ]
    }
   ],
   "source": [
    "print(len(x))\n",
    "print(x._capacity)"
   ]
  },
  {
   "cell_type": "markdown",
   "metadata": {},
   "source": [
    "### C-5.17\n",
    "\n",
    "Prove that when using a dynamic array that grows and shrinks as in the previous exercise, the following series of $2n$ operation takes $O(n)$ time: $n$ append operations on an initially empty array, followed by $n$ pop operations."
   ]
  },
  {
   "cell_type": "code",
   "execution_count": 59,
   "metadata": {},
   "outputs": [],
   "source": [
    "insert_num = [i * 1000 for i in range(1, 300)]\n",
    "elapsed = list()\n",
    "for i in insert_num:\n",
    "    start = time.time()\n",
    "    x = DynamicArray()\n",
    "    for i in range(i):\n",
    "        x.append(i)\n",
    "    for i in range(i):\n",
    "        x.append(i)\n",
    "    end = time.time()\n",
    "    elapsed.append(end-start)"
   ]
  },
  {
   "cell_type": "code",
   "execution_count": 60,
   "metadata": {},
   "outputs": [
    {
     "data": {
      "image/png": "[encoded data removed]",
      "text/plain": [
       "<Figure size 432x288 with 1 Axes>"
      ]
     },
     "metadata": {
      "needs_background": "light"
     },
     "output_type": "display_data"
    }
   ],
   "source": [
    "plt.plot(elapsed)\n",
    "plt.grid()"
   ]
  },
  {
   "cell_type": "markdown",
   "metadata": {},
   "source": [
    "We can see intermittent surges at some points, which must be the time when resizing happens. However, overall elapsed time follows $O(n)$, which shows why ***amortization analysis*** makes sense."
   ]
  },
  {
   "cell_type": "markdown",
   "metadata": {},
   "source": [
    "### C-5.22\n",
    "\n",
    "Develop an experiment to compare the relative efficiency of the `extend` method of Python's `list` class versus using repeated calls to `append` to accomplish the equivalent task."
   ]
  },
  {
   "cell_type": "code",
   "execution_count": 93,
   "metadata": {},
   "outputs": [],
   "source": [
    "x, y = [], []\n",
    "time_x, time_y = [], []\n",
    "\n",
    "test_num = list(map(int, [1e5, 2e5, 3e5, 4e5, 5e5]))\n",
    "for i in test_num:\n",
    "    \n",
    "    tba = list(range(i))\n",
    "    \n",
    "    start = time.time()\n",
    "    for i in tba:\n",
    "        x.append(i)\n",
    "    end = time.time()\n",
    "    time_x.append(end-start)\n",
    "\n",
    "\n",
    "    start = time.time()\n",
    "    x.extend(tba)\n",
    "    end = time.time()\n",
    "    time_y.append(end-start)"
   ]
  },
  {
   "cell_type": "code",
   "execution_count": 95,
   "metadata": {
    "scrolled": false
   },
   "outputs": [
    {
     "data": {
      "image/png": "[encoded data removed]",
      "text/plain": [
       "<Figure size 432x288 with 1 Axes>"
      ]
     },
     "metadata": {
      "needs_background": "light"
     },
     "output_type": "display_data"
    }
   ],
   "source": [
    "plt.plot(test_num, time_x, label='append')\n",
    "plt.plot(test_num, time_y, label='extend')\n",
    "plt.legend()\n",
    "plt.xticks(rotation=45)\n",
    "plt.grid()"
   ]
  },
  {
   "cell_type": "markdown",
   "metadata": {},
   "source": [
    "The method `extend` is a lot faster. This deferent lies on the number of resizing the dynamic list. With a call to `extend`, at most one resize operation will be performed, in constrast to `append`, which will perform resizing multiple times."
   ]
  },
  {
   "cell_type": "markdown",
   "metadata": {},
   "source": [
    "### C-5.23\n",
    "\n",
    "Based on the discussion on constructing new list (list comprehension vs repeatedly appending), develop an experiment to compare the efficiency of Python's list comprehension syntax versus the construction of a list by means of repeated calls to append."
   ]
  },
  {
   "cell_type": "code",
   "execution_count": 99,
   "metadata": {},
   "outputs": [],
   "source": [
    "x, y = [], []\n",
    "time_x, time_y = [], []\n",
    "\n",
    "test_num = list(map(int, [1e6, 2e6, 3e6, 4e6, 5e6]))\n",
    "for i in test_num:\n",
    "    \n",
    "    start = time.time()\n",
    "    for k in range(i):\n",
    "        x.append(k * k)\n",
    "    end = time.time()\n",
    "    time_x.append(end-start)\n",
    "\n",
    "    start = time.time()\n",
    "    x = [k * k for k in range(i)]\n",
    "    end = time.time()\n",
    "    time_y.append(end-start)"
   ]
  },
  {
   "cell_type": "code",
   "execution_count": 101,
   "metadata": {},
   "outputs": [
    {
     "data": {
      "image/png": "[encoded data removed]",
      "text/plain": [
       "<Figure size 432x288 with 1 Axes>"
      ]
     },
     "metadata": {
      "needs_background": "light"
     },
     "output_type": "display_data"
    }
   ],
   "source": [
    "plt.plot(test_num, time_x, label='append')\n",
    "plt.plot(test_num, time_y, label='list comprehension')\n",
    "plt.legend()\n",
    "plt.xticks(rotation=45)\n",
    "plt.grid()"
   ]
  },
  {
   "cell_type": "markdown",
   "metadata": {},
   "source": [
    "### C-5.24 \n",
    "\n",
    "Perform experiments to evaluate the efficiency of the `remove` method of Python's `list` class. Use known values so that all removals occur either at the beginning, middle, or end of the list."
   ]
  },
  {
   "cell_type": "code",
   "execution_count": null,
   "metadata": {},
   "outputs": [],
   "source": []
  },
  {
   "cell_type": "code",
   "execution_count": null,
   "metadata": {},
   "outputs": [],
   "source": []
  },
  {
   "cell_type": "code",
   "execution_count": null,
   "metadata": {},
   "outputs": [],
   "source": []
  },
  {
   "cell_type": "code",
   "execution_count": null,
   "metadata": {},
   "outputs": [],
   "source": []
  },
  {
   "cell_type": "markdown",
   "metadata": {},
   "source": [
    "### P-5.34"
   ]
  },
  {
   "cell_type": "markdown",
   "metadata": {},
   "source": [
    "Write a program that can perform the Caesar cipher for English message that include bot h upper- and lowercase characters"
   ]
  },
  {
   "cell_type": "code",
   "execution_count": 102,
   "metadata": {},
   "outputs": [],
   "source": [
    "class CaesarCipher:\n",
    "    \"\"\"Class for doing encryption and decrpytion using a Caesar cipher.\"\"\"\n",
    "    \n",
    "    def __init__(self, shift):\n",
    "        \"\"\"Construct Caesar cipher using given integer shift for rotation.\"\"\"\n",
    "        encoder = [None] * 26\n",
    "        decoder = [None] * 26\n",
    "        for k in range(26):\n",
    "            encoder[k] = chr((k + shift) % 26 + ord('A'))\n",
    "            decoder[k] = chr((k - shift) % 26 + ord('A'))\n",
    "        self._forward = ''.join(encoder)\n",
    "        self._backward = ''.join(decoder)\n",
    "    \n",
    "    def encrpyt(self, message):\n",
    "        \"\"\"Return string representing encripted message.\"\"\"\n",
    "        return self._transform(message, self._forward)\n",
    "    \n",
    "    def decrpyt(self, secret):\n",
    "        \"\"\"Return decrpyted message given encrpyted secret.\"\"\"\"\"\n",
    "        return self._transform(secret, self._backward)\n",
    "    \n",
    "    def _transform(self, original, code):\n",
    "        \"\"\"Utility to perform transformation based on given code string.\"\"\"\"\"\n",
    "        msg = list(original)\n",
    "        for k in range(len(msg)):\n",
    "            if msg[k].isupper():\n",
    "                j = ord(msg[k]) - ord('A')\n",
    "                msg[k] = code[j]\n",
    "            elif msg[k].islower():\n",
    "                j = ord(msg[k]) - ord('a')\n",
    "                msg[k] = code[j]\n",
    "        return ''.join(msg)"
   ]
  },
  {
   "cell_type": "markdown",
   "metadata": {},
   "source": [
    "Sample:"
   ]
  },
  {
   "cell_type": "code",
   "execution_count": 103,
   "metadata": {},
   "outputs": [],
   "source": [
    "cipher = CaesarCipher(3)\n",
    "message = \"TEST MESSAGE GO, lower case\""
   ]
  },
  {
   "cell_type": "code",
   "execution_count": 104,
   "metadata": {},
   "outputs": [
    {
     "data": {
      "text/plain": [
       "'WHVW PHVVDJH JR, ORZHU FDVH'"
      ]
     },
     "execution_count": 104,
     "metadata": {},
     "output_type": "execute_result"
    }
   ],
   "source": [
    "coded = cipher.encrpyt(message)\n",
    "coded"
   ]
  },
  {
   "cell_type": "code",
   "execution_count": 105,
   "metadata": {},
   "outputs": [
    {
     "data": {
      "text/plain": [
       "'TEST MESSAGE GO, LOWER CASE'"
      ]
     },
     "execution_count": 105,
     "metadata": {},
     "output_type": "execute_result"
    }
   ],
   "source": [
    "answer = cipher.decrpyt(coded)\n",
    "answer"
   ]
  }
 ],
 "metadata": {
  "kernelspec": {
   "display_name": "Python 3",
   "language": "python",
   "name": "python3"
  },
  "language_info": {
   "codemirror_mode": {
    "name": "ipython",
    "version": 3
   },
   "file_extension": ".py",
   "mimetype": "text/x-python",
   "name": "python",
   "nbconvert_exporter": "python",
   "pygments_lexer": "ipython3",
   "version": "3.6.8"
  }
 },
 "nbformat": 4,
 "nbformat_minor": 1
}
