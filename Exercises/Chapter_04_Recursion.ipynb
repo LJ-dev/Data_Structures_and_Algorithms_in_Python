{
 "cells": [
  {
   "cell_type": "markdown",
   "metadata": {},
   "source": [
    "# C-4.14\n",
    "\n",
    "In the ***Towers of Hanoi*** puzzle, we are given a platform with three pegs, $a, b,$ and $c$, sticking out of it. On peg $a$ is a stack of $n$ disks, each larger thatn the next, so that the smallest is on the top and the largest is on the bottom. The puzzle is to move all the disk from peg $a$ to peg $c$, moving one disk at a time, so that we never place a larger disk on top of a smaller one. Describe a recursive algorithm for solving the Towers of Hanoi puzzle for arbitrary $n$."
   ]
  },
  {
   "cell_type": "code",
   "execution_count": 607,
   "metadata": {},
   "outputs": [
    {
     "name": "stdout",
     "output_type": "stream",
     "text": [
      "N: 4\n",
      "[a]:  [4, 3, 2, 1]\n",
      "[b]:  []\n",
      "[c]:  []\n"
     ]
    }
   ],
   "source": [
    "n = input(\"N: \")\n",
    "a = list(reversed(range(1,int(n)+1)))\n",
    "b = [];\n",
    "c = [];\n",
    "\n",
    "print(\"[a]: \", a)\n",
    "print(\"[b]: \", b)\n",
    "print(\"[c]: \", c)"
   ]
  },
  {
   "cell_type": "code",
   "execution_count": 608,
   "metadata": {
    "collapsed": true
   },
   "outputs": [],
   "source": [
    "def move_disk(from_peg, to_peg):\n",
    "    to_peg.append(from_peg.pop())\n",
    "    print(\"=============[Status]=============\")\n",
    "    print(\"[a]: \", a)\n",
    "    print(\"[b]: \", b)\n",
    "    print(\"[c]: \", c)\n",
    "\n",
    "def hanoi(n, from_peg, help_peg, to_peg):\n",
    "    if n == 1:\n",
    "        move_disk(from_peg, to_peg)\n",
    "    else:\n",
    "        hanoi(n-1, from_peg, to_peg, help_peg)\n",
    "        move_disk(from_peg, to_peg)\n",
    "        hanoi(n-1,help_peg, from_peg, to_peg)\n",
    "    "
   ]
  },
  {
   "cell_type": "code",
   "execution_count": 609,
   "metadata": {
    "scrolled": false
   },
   "outputs": [
    {
     "name": "stdout",
     "output_type": "stream",
     "text": [
      "=============[Status]=============\n",
      "[a]:  [4, 3, 2]\n",
      "[b]:  [1]\n",
      "[c]:  []\n",
      "=============[Status]=============\n",
      "[a]:  [4, 3]\n",
      "[b]:  [1]\n",
      "[c]:  [2]\n",
      "=============[Status]=============\n",
      "[a]:  [4, 3]\n",
      "[b]:  []\n",
      "[c]:  [2, 1]\n",
      "=============[Status]=============\n",
      "[a]:  [4]\n",
      "[b]:  [3]\n",
      "[c]:  [2, 1]\n",
      "=============[Status]=============\n",
      "[a]:  [4, 1]\n",
      "[b]:  [3]\n",
      "[c]:  [2]\n",
      "=============[Status]=============\n",
      "[a]:  [4, 1]\n",
      "[b]:  [3, 2]\n",
      "[c]:  []\n",
      "=============[Status]=============\n",
      "[a]:  [4]\n",
      "[b]:  [3, 2, 1]\n",
      "[c]:  []\n",
      "=============[Status]=============\n",
      "[a]:  []\n",
      "[b]:  [3, 2, 1]\n",
      "[c]:  [4]\n",
      "=============[Status]=============\n",
      "[a]:  []\n",
      "[b]:  [3, 2]\n",
      "[c]:  [4, 1]\n",
      "=============[Status]=============\n",
      "[a]:  [2]\n",
      "[b]:  [3]\n",
      "[c]:  [4, 1]\n",
      "=============[Status]=============\n",
      "[a]:  [2, 1]\n",
      "[b]:  [3]\n",
      "[c]:  [4]\n",
      "=============[Status]=============\n",
      "[a]:  [2, 1]\n",
      "[b]:  []\n",
      "[c]:  [4, 3]\n",
      "=============[Status]=============\n",
      "[a]:  [2]\n",
      "[b]:  [1]\n",
      "[c]:  [4, 3]\n",
      "=============[Status]=============\n",
      "[a]:  []\n",
      "[b]:  [1]\n",
      "[c]:  [4, 3, 2]\n",
      "=============[Status]=============\n",
      "[a]:  []\n",
      "[b]:  []\n",
      "[c]:  [4, 3, 2, 1]\n"
     ]
    }
   ],
   "source": [
    "hanoi(4, a, b, c)"
   ]
  },
  {
   "cell_type": "markdown",
   "metadata": {},
   "source": [
    "# C-4.18\n",
    "Use recursion to write a Python function for determining if a string $s$ has more vowels than consonants."
   ]
  },
  {
   "cell_type": "code",
   "execution_count": 716,
   "metadata": {
    "scrolled": false
   },
   "outputs": [
    {
     "name": "stdout",
     "output_type": "stream",
     "text": [
      "faefepf\n"
     ]
    },
    {
     "data": {
      "text/plain": [
       "'faefepf'"
      ]
     },
     "execution_count": 716,
     "metadata": {},
     "output_type": "execute_result"
    }
   ],
   "source": [
    "s = input()\n",
    "s"
   ]
  },
  {
   "cell_type": "code",
   "execution_count": 717,
   "metadata": {
    "scrolled": true
   },
   "outputs": [
    {
     "data": {
      "text/plain": [
       "['a', 'e', 'i', 'o', 'u']"
      ]
     },
     "execution_count": 717,
     "metadata": {},
     "output_type": "execute_result"
    }
   ],
   "source": [
    "vowel = ['a','e','i','o','u']\n",
    "vowel"
   ]
  },
  {
   "cell_type": "code",
   "execution_count": 718,
   "metadata": {},
   "outputs": [],
   "source": [
    "vowels = []\n",
    "length = len(s)\n",
    "s = list(s)"
   ]
  },
  {
   "cell_type": "code",
   "execution_count": 719,
   "metadata": {},
   "outputs": [],
   "source": [
    "def more_vowels(s, vowels):\n",
    "    if not s:\n",
    "        return True if len(vowels) > (length)//2 else False, vowels\n",
    "\n",
    "    elif s[-1] in vowel:\n",
    "        vowels.append(s.pop())\n",
    "        return more_vowels(s, vowels)\n",
    "        \n",
    "    else:\n",
    "        s.pop()\n",
    "        return more_vowels(s,vowels)\n"
   ]
  },
  {
   "cell_type": "code",
   "execution_count": 720,
   "metadata": {},
   "outputs": [
    {
     "name": "stdout",
     "output_type": "stream",
     "text": [
      "(False, ['e', 'e', 'a'])\n"
     ]
    }
   ],
   "source": [
    "print(more_vowels(s, vowels))"
   ]
  }
 ],
 "metadata": {
  "kernelspec": {
   "display_name": "Python 3",
   "language": "python",
   "name": "python3"
  },
  "language_info": {
   "codemirror_mode": {
    "name": "ipython",
    "version": 3
   },
   "file_extension": ".py",
   "mimetype": "text/x-python",
   "name": "python",
   "nbconvert_exporter": "python",
   "pygments_lexer": "ipython3",
   "version": "3.6.1"
  }
 },
 "nbformat": 4,
 "nbformat_minor": 2
}
