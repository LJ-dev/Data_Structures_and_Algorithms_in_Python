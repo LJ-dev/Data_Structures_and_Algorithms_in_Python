{
  "cells": [
    {
      "cell_type": "markdown",
      "source": "# Chapter 04: Recursion",
      "metadata": {
        "pycharm": {
          "metadata": false
        }
      }
    },
    {
      "cell_type": "markdown",
      "source": "## Modules",
      "metadata": {
        "pycharm": {
          "metadata": false
        }
      }
    },
    {
      "cell_type": "code",
      "execution_count": 4,
      "outputs": [],
      "source": "import numpy as np\nimport matplotlib.pyplot as plt\n%matplotlib inline",
      "metadata": {
        "pycharm": {
          "metadata": false,
          "name": "#%%\n",
          "is_executing": false
        }
      }
    },
    {
      "cell_type": "markdown",
      "source": "## Exercises\n### R-4.1\nDescribe a recursive algorithm for finding the maximum element in a sequence $S$, of $n$ elements. What is your running time and space usage?",
      "metadata": {
        "pycharm": {
          "metadata": false
        }
      }
    },
    {
      "cell_type": "markdown",
      "source": "#### Solution",
      "metadata": {
        "pycharm": {
          "metadata": false,
          "name": "#%% md\n"
        }
      }
    },
    {
      "cell_type": "code",
      "execution_count": null,
      "outputs": [],
      "source": "seq1 \u003d [10, 2, 3, 1, 5, 6, 2, 4, 12, 5]\n\ndef max(seq, start, stop):\n    \n",
      "metadata": {
        "pycharm": {
          "metadata": false,
          "name": "#%%\n"
        }
      }
    },
    {
      "cell_type": "markdown",
      "source": "### R-4.6\nDescribe a recursive function for computing the $n^\\text{th}$ **Harmonic number**, $H_n \u003d \\sum_{i\u003d1}^n 1/i$\n",
      "metadata": {
        "pycharm": {
          "metadata": false,
          "name": "#%% md\n"
        }
      }
    },
    {
      "cell_type": "markdown",
      "metadata": {
        "pycharm": {}
      },
      "source": "### C-4.14\nIn the ***Towers of Hanoi*** puzzle, we are given a platform with three pegs, $a, b,$ and $c$, \nsticking out of it. On peg $a$ is a stack of $n$ disks, each larger than the next, so that the smallest is on the top and the largest is on the bottom. The puzzle is to move all the disk from peg $a$ to peg $c$, moving one disk at a time, so that we never place a larger disk on top of a smaller one. Describe a recursive algorithm for solving the Towers of Hanoi puzzle for arbitrary $n$."
    },
    {
      "cell_type": "markdown",
      "source": "#### Solution",
      "metadata": {
        "pycharm": {
          "metadata": false,
          "name": "#%% md\n"
        }
      }
    },
    {
      "cell_type": "code",
      "execution_count": 1,
      "metadata": {
        "pycharm": {
          "is_executing": false
        }
      },
      "outputs": [
        {
          "name": "stdout",
          "text": [
            "[a]:  [4, 3, 2, 1]\n[b]:  []\n[c]:  []\n"
          ],
          "output_type": "stream"
        }
      ],
      "source": "n \u003d 4\na \u003d list(reversed(range(1,int(n)+1)))\nb \u003d [];\nc \u003d [];\n\nprint(\"[a]: \", a)\nprint(\"[b]: \", b)\nprint(\"[c]: \", c)"
    },
    {
      "cell_type": "code",
      "execution_count": 2,
      "metadata": {
        "collapsed": true,
        "pycharm": {
          "is_executing": false
        }
      },
      "outputs": [],
      "source": "def move_disk(from_peg, to_peg):\n    to_peg.append(from_peg.pop())\n    print(\"\u003d\u003d\u003d\u003d\u003d\u003d\u003d\u003d\u003d\u003d\u003d\u003d\u003d[Status]\u003d\u003d\u003d\u003d\u003d\u003d\u003d\u003d\u003d\u003d\u003d\u003d\u003d\")\n    print(\"[a]: \", a)\n    print(\"[b]: \", b)\n    print(\"[c]: \", c)\n\ndef hanoi(n, from_peg, help_peg, to_peg):\n    if n \u003d\u003d 1:\n        move_disk(from_peg, to_peg)\n    else:\n        hanoi(n-1, from_peg, to_peg, help_peg)\n        move_disk(from_peg, to_peg)\n        hanoi(n-1, help_peg, from_peg, to_peg)\n    "
    },
    {
      "cell_type": "code",
      "execution_count": 3,
      "metadata": {
        "scrolled": false,
        "pycharm": {
          "is_executing": false
        }
      },
      "outputs": [
        {
          "name": "stdout",
          "text": [
            "\u003d\u003d\u003d\u003d\u003d\u003d\u003d\u003d\u003d\u003d\u003d\u003d\u003d[Status]\u003d\u003d\u003d\u003d\u003d\u003d\u003d\u003d\u003d\u003d\u003d\u003d\u003d\n[a]:  [4, 3, 2]\n[b]:  [1]\n[c]:  []\n\u003d\u003d\u003d\u003d\u003d\u003d\u003d\u003d\u003d\u003d\u003d\u003d\u003d[Status]\u003d\u003d\u003d\u003d\u003d\u003d\u003d\u003d\u003d\u003d\u003d\u003d\u003d\n[a]:  [4, 3]\n[b]:  [1]\n[c]:  [2]\n\u003d\u003d\u003d\u003d\u003d\u003d\u003d\u003d\u003d\u003d\u003d\u003d\u003d[Status]\u003d\u003d\u003d\u003d\u003d\u003d\u003d\u003d\u003d\u003d\u003d\u003d\u003d\n[a]:  [4, 3]\n[b]:  []\n[c]:  [2, 1]\n\u003d\u003d\u003d\u003d\u003d\u003d\u003d\u003d\u003d\u003d\u003d\u003d\u003d[Status]\u003d\u003d\u003d\u003d\u003d\u003d\u003d\u003d\u003d\u003d\u003d\u003d\u003d\n[a]:  [4]\n[b]:  [3]\n[c]:  [2, 1]\n\u003d\u003d\u003d\u003d\u003d\u003d\u003d\u003d\u003d\u003d\u003d\u003d\u003d[Status]\u003d\u003d\u003d\u003d\u003d\u003d\u003d\u003d\u003d\u003d\u003d\u003d\u003d\n[a]:  [4, 1]\n[b]:  [3]\n[c]:  [2]\n\u003d\u003d\u003d\u003d\u003d\u003d\u003d\u003d\u003d\u003d\u003d\u003d\u003d[Status]\u003d\u003d\u003d\u003d\u003d\u003d\u003d\u003d\u003d\u003d\u003d\u003d\u003d\n[a]:  [4, 1]\n[b]:  [3, 2]\n[c]:  []\n\u003d\u003d\u003d\u003d\u003d\u003d\u003d\u003d\u003d\u003d\u003d\u003d\u003d[Status]\u003d\u003d\u003d\u003d\u003d\u003d\u003d\u003d\u003d\u003d\u003d\u003d\u003d\n[a]:  [4]\n[b]:  [3, 2, 1]\n[c]:  []\n\u003d\u003d\u003d\u003d\u003d\u003d\u003d\u003d\u003d\u003d\u003d\u003d\u003d[Status]\u003d\u003d\u003d\u003d\u003d\u003d\u003d\u003d\u003d\u003d\u003d\u003d\u003d\n[a]:  []\n[b]:  [3, 2, 1]\n[c]:  [4]\n\u003d\u003d\u003d\u003d\u003d\u003d\u003d\u003d\u003d\u003d\u003d\u003d\u003d[Status]\u003d\u003d\u003d\u003d\u003d\u003d\u003d\u003d\u003d\u003d\u003d\u003d\u003d\n[a]:  []\n[b]:  [3, 2]\n[c]:  [4, 1]\n\u003d\u003d\u003d\u003d\u003d\u003d\u003d\u003d\u003d\u003d\u003d\u003d\u003d[Status]\u003d\u003d\u003d\u003d\u003d\u003d\u003d\u003d\u003d\u003d\u003d\u003d\u003d\n[a]:  [2]\n[b]:  [3]\n[c]:  [4, 1]\n\u003d\u003d\u003d\u003d\u003d\u003d\u003d\u003d\u003d\u003d\u003d\u003d\u003d[Status]\u003d\u003d\u003d\u003d\u003d\u003d\u003d\u003d\u003d\u003d\u003d\u003d\u003d\n[a]:  [2, 1]\n[b]:  [3]\n[c]:  [4]\n\u003d\u003d\u003d\u003d\u003d\u003d\u003d\u003d\u003d\u003d\u003d\u003d\u003d[Status]\u003d\u003d\u003d\u003d\u003d\u003d\u003d\u003d\u003d\u003d\u003d\u003d\u003d\n[a]:  [2, 1]\n[b]:  []\n[c]:  [4, 3]\n\u003d\u003d\u003d\u003d\u003d\u003d\u003d\u003d\u003d\u003d\u003d\u003d\u003d[Status]\u003d\u003d\u003d\u003d\u003d\u003d\u003d\u003d\u003d\u003d\u003d\u003d\u003d\n[a]:  [2]\n[b]:  [1]\n[c]:  [4, 3]\n\u003d\u003d\u003d\u003d\u003d\u003d\u003d\u003d\u003d\u003d\u003d\u003d\u003d[Status]\u003d\u003d\u003d\u003d\u003d\u003d\u003d\u003d\u003d\u003d\u003d\u003d\u003d\n[a]:  []\n[b]:  [1]\n[c]:  [4, 3, 2]\n\u003d\u003d\u003d\u003d\u003d\u003d\u003d\u003d\u003d\u003d\u003d\u003d\u003d[Status]\u003d\u003d\u003d\u003d\u003d\u003d\u003d\u003d\u003d\u003d\u003d\u003d\u003d\n[a]:  []\n[b]:  []\n[c]:  [4, 3, 2, 1]\n"
          ],
          "output_type": "stream"
        }
      ],
      "source": [
        "hanoi(4, a, b, c)"
      ]
    },
    {
      "cell_type": "markdown",
      "metadata": {
        "pycharm": {}
      },
      "source": "### C-4.18\nUse recursion to write a Python function for determining if a string $s$ has more vowels than consonants."
    },
    {
      "cell_type": "markdown",
      "source": "#### Solution",
      "metadata": {
        "pycharm": {
          "metadata": false,
          "name": "#%% md\n"
        }
      }
    },
    {
      "cell_type": "code",
      "execution_count": 4,
      "metadata": {
        "scrolled": false,
        "pycharm": {
          "is_executing": false
        }
      },
      "outputs": [
        {
          "data": {
            "text/plain": "\u0027\u0027"
          },
          "metadata": {},
          "output_type": "execute_result",
          "execution_count": 4
        }
      ],
      "source": "s \u003d input()\ns"
    },
    {
      "cell_type": "code",
      "execution_count": 717,
      "metadata": {
        "scrolled": true,
        "pycharm": {}
      },
      "outputs": [
        {
          "data": {
            "text/plain": [
              "[\u0027a\u0027, \u0027e\u0027, \u0027i\u0027, \u0027o\u0027, \u0027u\u0027]"
            ]
          },
          "execution_count": 717,
          "metadata": {},
          "output_type": "execute_result"
        }
      ],
      "source": [
        "vowel \u003d [\u0027a\u0027,\u0027e\u0027,\u0027i\u0027,\u0027o\u0027,\u0027u\u0027]\n",
        "vowel"
      ]
    },
    {
      "cell_type": "code",
      "execution_count": 718,
      "metadata": {
        "pycharm": {}
      },
      "outputs": [],
      "source": [
        "vowels \u003d []\n",
        "length \u003d len(s)\n",
        "s \u003d list(s)"
      ]
    },
    {
      "cell_type": "code",
      "execution_count": 719,
      "metadata": {
        "pycharm": {}
      },
      "outputs": [],
      "source": [
        "def more_vowels(s, vowels):\n",
        "    if not s:\n",
        "        return True if len(vowels) \u003e (length)//2 else False, vowels\n",
        "\n",
        "    elif s[-1] in vowel:\n",
        "        vowels.append(s.pop())\n",
        "        return more_vowels(s, vowels)\n",
        "        \n",
        "    else:\n",
        "        s.pop()\n",
        "        return more_vowels(s,vowels)\n"
      ]
    },
    {
      "cell_type": "code",
      "execution_count": 720,
      "metadata": {
        "pycharm": {}
      },
      "outputs": [
        {
          "name": "stdout",
          "output_type": "stream",
          "text": [
            "(False, [\u0027e\u0027, \u0027e\u0027, \u0027a\u0027])\n"
          ]
        }
      ],
      "source": [
        "print(more_vowels(s, vowels))"
      ]
    }
  ],
  "metadata": {
    "kernelspec": {
      "name": "pycharm-1115615c",
      "language": "python",
      "display_name": "PyCharm (Data_Structures_and_Algorithms_in_Python)"
    },
    "language_info": {
      "codemirror_mode": {
        "name": "ipython",
        "version": 3
      },
      "file_extension": ".py",
      "mimetype": "text/x-python",
      "name": "python",
      "nbconvert_exporter": "python",
      "pygments_lexer": "ipython3",
      "version": "3.6.1"
    },
    "stem_cell": {
      "cell_type": "raw",
      "source": "",
      "metadata": {
        "pycharm": {
          "metadata": false
        }
      }
    }
  },
  "nbformat": 4,
  "nbformat_minor": 2
}