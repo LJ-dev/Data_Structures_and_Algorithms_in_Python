{
 "cells": [
  {
   "cell_type": "markdown",
   "source": [
    "# Chapter 02: OOP"
   ],
   "metadata": {
    "collapsed": false
   }
  },
  {
   "cell_type": "markdown",
   "source": [
    "## Modules"
   ],
   "metadata": {
    "collapsed": false
   }
  },
  {
   "cell_type": "code",
   "execution_count": 77,
   "outputs": [],
   "source": [
    "import numpy as np"
   ],
   "metadata": {
    "collapsed": false,
    "pycharm": {
     "name": "#%%\n",
     "is_executing": false
    }
   }
  },
  {
   "cell_type": "markdown",
   "source": [
    "## Exercises"
   ],
   "metadata": {
    "collapsed": false
   }
  },
  {
   "cell_type": "markdown",
   "source": [
    "### P-2.36"
   ],
   "metadata": {
    "collapsed": false,
    "pycharm": {
     "name": "#%% md\n"
    }
   }
  },
  {
   "cell_type": "markdown",
   "metadata": {},
   "source": [
    "Write a Python program to simulate an ecosystem containing two types of creatures, **bears** and **fish**. The ecosystem consists of a river, which is modeled as a relatively large list. Each element of the list should be a `Bear` object, a `Fish` object, or `None`. In each time step, based on a random process, each animal either attempts to move into an adjacent list location or stay where it is. If two animals of the same type are about to collide in the same cell, then they stay where they are, but they create a new instance of that type of animal, which is placed in a random empty (i.e., previously None) location in the list. If a bear and a fish collide, however, then the fish died (i.e., it disappears)."
   ]
  },
  {
   "cell_type": "markdown",
   "source": [
    "#### Solution"
   ],
   "metadata": {
    "collapsed": false,
    "pycharm": {
     "name": "#%% md\n"
    }
   }
  },
  {
   "cell_type": "markdown",
   "source": [
    "#### Let's define Creature and its subclass first."
   ],
   "metadata": {
    "collapsed": false,
    "pycharm": {
     "name": "#%% md\n"
    }
   }
  },
  {
   "cell_type": "code",
   "execution_count": 93,
   "outputs": [],
   "source": [
    "from abc import ABCMeta, abstractmethod\n",
    "\n",
    "class Creature(metaclass=ABCMeta):\n",
    "    \n",
    "    def __init__(self, ind):\n",
    "        self.ind = ind  # Index of a creature in ecosystem.\n",
    "    \n",
    "    @abstractmethod\n",
    "    def move(self):\n",
    "        \"\"\"Return index to move\"\"\"\n",
    "        \n",
    "class Bear(Creature):\n",
    "\n",
    "    def __repr__(self):\n",
    "        return \"Bear(%s)\" % self.ind\n",
    "    \n",
    "    def move(self):\n",
    "        to = np.random.choice([-1, 1])\n",
    "        new_ind = self.ind + to\n",
    "        print(self, \"moves\", \"left\" if to == -1 else \"right\")\n",
    "        return new_ind\n",
    "        \n",
    "class Fish(Creature):\n",
    "    \n",
    "    def __repr__(self):\n",
    "        return \"Fish(%s)\" % self.ind\n",
    "    \n",
    "    def move(self):\n",
    "        to = np.random.choice([-1, 1])\n",
    "        new_ind = self.ind + to\n",
    "        print(self, \"moves\", \"left\" if to == -1 else \"right\")\n",
    "        return new_ind       \n",
    "        "
   ],
   "metadata": {
    "collapsed": false,
    "pycharm": {
     "name": "#%%\n",
     "is_executing": false
    }
   }
  },
  {
   "cell_type": "code",
   "execution_count": 94,
   "outputs": [],
   "source": [
    "class River:\n",
    "    \n",
    "    def __init__(self, n_room):\n",
    "        self.n_room = n_room\n",
    "        self.eco = None\n",
    "    \n",
    "    def initialize(self):\n",
    "        self.eco = []\n",
    "        creatures= np.random.choice([Bear, Fish, None], size=self.n_room)\n",
    "        for ind, creature in enumerate(creatures):\n",
    "            self.eco.append(creature(ind) if creature is not None else None)\n",
    "    \n",
    "    def next_time_step(self, n=1, verbose=True):\n",
    "        for i in range(n):\n",
    "            moving_ind = np.random.choice(list(range(self.n_room)))\n",
    "            if self.eco[moving_ind] is None:\n",
    "                print(\"Nothing happens...\")\n",
    "                pass\n",
    "            else:\n",
    "                new_ind = self.eco[moving_ind].move()\n",
    "                if new_ind < 0 or new_ind > len(self.eco) -1:\n",
    "                    pass\n",
    "                elif isinstance(self.eco[moving_ind], Bear):\n",
    "                    if isinstance(self.eco[new_ind], Bear):\n",
    "                        pass\n",
    "                    elif isinstance(self.eco[new_ind], Fish):\n",
    "                        self.eco[new_ind] = Bear(new_ind)\n",
    "                        self.eco[moving_ind] = None\n",
    "                    else:\n",
    "                        self.eco[new_ind] = Bear(new_ind)\n",
    "                elif isinstance(self.eco[moving_ind], Fish):\n",
    "                    if isinstance(self.eco[new_ind], Fish):\n",
    "                        pass\n",
    "                    elif isinstance(self.eco[new_ind], Bear):\n",
    "                        self.eco[moving_ind] = None\n",
    "                    else:\n",
    "                        self.eco[new_ind] = Fish(new_ind)\n",
    "                else:\n",
    "                    raise ValueError(\"Undefined Creature\")\n",
    "            if verbose:\n",
    "                self.display()\n",
    "        \n",
    "    def display(self):\n",
    "        print(\"===================\")\n",
    "        print(\"Ecosystem status:\\n\")\n",
    "        print(self.eco, \"\\n\")\n",
    "        print(\"===================\")\n"
   ],
   "metadata": {
    "collapsed": false,
    "pycharm": {
     "name": "#%%\n",
     "is_executing": false
    }
   }
  },
  {
   "cell_type": "code",
   "execution_count": 95,
   "outputs": [],
   "source": [
    "river = River(5)"
   ],
   "metadata": {
    "collapsed": false,
    "pycharm": {
     "name": "#%%\n",
     "is_executing": false
    }
   }
  },
  {
   "cell_type": "code",
   "execution_count": 96,
   "outputs": [
    {
     "name": "stdout",
     "text": [
      "===================\nEcosystem status:\n\n[None, Fish(1), Fish(2), Bear(3), None] \n\n===================\n"
     ],
     "output_type": "stream"
    }
   ],
   "source": [
    "river.initialize()\n",
    "river.display()"
   ],
   "metadata": {
    "collapsed": false,
    "pycharm": {
     "name": "#%%\n",
     "is_executing": false
    }
   }
  },
  {
   "cell_type": "code",
   "execution_count": 97,
   "outputs": [
    {
     "name": "stdout",
     "text": [
      "Fish(2) moves left\n===================\nEcosystem status:\n\n[None, Fish(1), Fish(2), Bear(3), None] \n\n===================\nBear(3) moves left\n===================\nEcosystem status:\n\n[None, Fish(1), Bear(2), None, None] \n\n===================\nFish(1) moves right\n===================\nEcosystem status:\n\n[None, None, Bear(2), None, None] \n\n===================\nNothing happens...\n===================\nEcosystem status:\n\n[None, None, Bear(2), None, None] \n\n===================\nBear(2) moves right\n===================\nEcosystem status:\n\n[None, None, Bear(2), Bear(3), None] \n\n===================\nNothing happens...\n===================\nEcosystem status:\n\n[None, None, Bear(2), Bear(3), None] \n\n===================\nNothing happens...\n===================\nEcosystem status:\n\n[None, None, Bear(2), Bear(3), None] \n\n===================\nNothing happens...\n===================\nEcosystem status:\n\n[None, None, Bear(2), Bear(3), None] \n\n===================\nBear(2) moves left\n===================\nEcosystem status:\n\n[None, Bear(1), Bear(2), Bear(3), None] \n\n===================\nNothing happens...\n===================\nEcosystem status:\n\n[None, Bear(1), Bear(2), Bear(3), None] \n\n===================\n"
     ],
     "output_type": "stream"
    }
   ],
   "source": [
    "river.next_time_step(10)\n"
   ],
   "metadata": {
    "collapsed": false,
    "pycharm": {
     "name": "#%%\n",
     "is_executing": false
    }
   }
  }
 ],
 "metadata": {
  "kernelspec": {
   "display_name": "Python 3",
   "language": "python",
   "name": "python3"
  },
  "language_info": {
   "codemirror_mode": {
    "name": "ipython",
    "version": 3
   },
   "file_extension": ".py",
   "mimetype": "text/x-python",
   "name": "python",
   "nbconvert_exporter": "python",
   "pygments_lexer": "ipython3",
   "version": "3.6.0"
  },
  "pycharm": {
   "stem_cell": {
    "cell_type": "raw",
    "source": [],
    "metadata": {
     "collapsed": false
    }
   }
  }
 },
 "nbformat": 4,
 "nbformat_minor": 2
}