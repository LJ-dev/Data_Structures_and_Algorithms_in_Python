{
 "cells": [
  {
   "cell_type": "markdown",
   "source": [
    "# Chapter 02: OOP"
   ],
   "metadata": {
    "collapsed": false
   }
  },
  {
   "cell_type": "markdown",
   "source": [
    "## Modules"
   ],
   "metadata": {
    "collapsed": false
   }
  },
  {
   "cell_type": "code",
   "execution_count": 1,
   "outputs": [],
   "source": [
    "import numpy as np"
   ],
   "metadata": {
    "collapsed": false,
    "pycharm": {
     "name": "#%%\n",
     "is_executing": false
    }
   }
  },
  {
   "cell_type": "markdown",
   "source": [
    "## Exercises"
   ],
   "metadata": {
    "collapsed": false
   }
  },
  {
   "cell_type": "markdown",
   "source": [
    "### P-2.36"
   ],
   "metadata": {
    "collapsed": false,
    "pycharm": {
     "name": "#%% md\n"
    }
   }
  },
  {
   "cell_type": "markdown",
   "metadata": {},
   "source": [
    "Write a Python program to simulate an ecosystem containing two types of creatures, **bears** and **fish**. The ecosystem consists of a river, which is modeled as a relatively large list. Each element of the list should be a `Bear` object, a `Fish` object, or `None`. In each time step, based on a random process, each animal either attempts to move into an adjacent list location or stay where it is. If two animals of the same type are about to collide in the same cell, then they stay where they are, but they create a new instance of that type of animal, which is placed in a random empty (i.e., previously None) location in the list. If a bear and a fish collide, however, then the fish died (i.e., it disappears)."
   ]
  },
  {
   "cell_type": "markdown",
   "source": [
    "#### Solution"
   ],
   "metadata": {
    "collapsed": false,
    "pycharm": {
     "name": "#%% md\n"
    }
   }
  },
  {
   "cell_type": "markdown",
   "source": [
    "#### Let's define Creature and its subclass first."
   ],
   "metadata": {
    "collapsed": false,
    "pycharm": {
     "name": "#%% md\n"
    }
   }
  },
  {
   "cell_type": "code",
   "execution_count": 72,
   "outputs": [],
   "source": [
    "from abc import ABCMeta, abstractmethod\n",
    "\n",
    "class Creature(metaclass=ABCMeta):\n",
    "    \n",
    "    def __init__(self, eco, ind):\n",
    "        self.eco = eco\n",
    "        self.ind = ind\n",
    "    \n",
    "    @abstractmethod\n",
    "    def move(self):\n",
    "        \"\"\"moving policy\"\"\"\n",
    "        \n",
    "class Bear(Creature):\n",
    "\n",
    "    def __repr__(self):\n",
    "        return \"Bear(%s)\" % (self.ind)\n",
    "    \n",
    "    def move(self):\n",
    "        \"\"\"Bear move\"\"\"\n",
    "        to = np.random.choice([-1, 1])\n",
    "        new_ind = self.ind + to\n",
    "        \n",
    "        print(self, \" moves \", \"left\" if to == -1 else \"right\")\n",
    "        if new_ind < 0 or new_ind > len(self.eco) - 1:\n",
    "            pass\n",
    "        elif isinstance(self.eco[new_ind], Bear):\n",
    "            pass\n",
    "        elif isinstance(self.eco[new_ind], Fish):\n",
    "            self.eco[new_ind] = Bear(self.eco, new_ind)\n",
    "            self.eco[self.ind] = None\n",
    "        elif self.eco[new_ind] is None:\n",
    "            self.eco[new_ind] = Bear(self.eco, new_ind)\n",
    "        else:\n",
    "            raise ValueError(\"Undefined Creature\")\n",
    "        \n",
    "class Fish(Creature):\n",
    "    \n",
    "    def __repr__(self):\n",
    "        return \"Fish(%s)\" % (self.ind)\n",
    "    \n",
    "    def move(self):\n",
    "        \"\"\"Fish move\"\"\"\n",
    "        to = np.random.choice([-1, 1])\n",
    "        new_ind = self.ind + to\n",
    "        \n",
    "        print(self, \" moves \", \"left\" if to == -1 else \"right\")\n",
    "        if new_ind < 0 or new_ind > len(self.eco) -1:\n",
    "            pass\n",
    "        elif isinstance(self.eco[new_ind], Bear):\n",
    "            self.eco[self.ind] = None\n",
    "        elif isinstance(self.eco[new_ind], Fish):\n",
    "            pass\n",
    "        elif self.eco[new_ind] is None:\n",
    "            self.eco[new_ind] = Fish(self.eco, new_ind)\n",
    "        else:\n",
    "            raise ValueError(\"Undefined Creature\")\n",
    "        \n",
    "        "
   ],
   "metadata": {
    "collapsed": false,
    "pycharm": {
     "name": "#%%\n",
     "is_executing": false
    }
   }
  },
  {
   "cell_type": "code",
   "execution_count": null,
   "outputs": [],
   "source": [
    "class River:\n",
    "    \n",
    "    def __init__(self, n_room, p=None):\n",
    "        self.n_room = n_room\n",
    "        self.room = []\n",
    "        for i in range(n_room):\n",
    "            creature = np.random.choice([Bear, Fish, None], p=None)\n",
    "            self.room.append(creature(self.room, i) if creature is not None else None)\n",
    "    \n",
    "    def next_time_step(self, n=1, verbose=True):\n",
    "        \n",
    "        for i in range(n):\n",
    "            moving_ind = np.random.choice(list(range(len(self.room))))\n",
    "            if self.room[moving_ind] is None:\n",
    "                print(\"Nothing happens...\")\n",
    "                pass\n",
    "            else:\n",
    "                self.room[moving_ind].move()\n",
    "            if verbose:\n",
    "                self.display()\n",
    "        \n",
    "    def display(self):\n",
    "        print(\"Ecosystem status:\\n\")\n",
    "        print(self.room, \"\\n\")\n"
   ],
   "metadata": {
    "collapsed": false,
    "pycharm": {
     "name": "#%%\n"
    }
   }
  },
  {
   "cell_type": "code",
   "execution_count": 77,
   "outputs": [
    {
     "name": "stdout",
     "text": [
      "Ecosystem status:\n\n[Fish(0), Fish(1), Fish(2), None, Bear(4)] \n\n"
     ],
     "output_type": "stream"
    }
   ],
   "source": [
    "river = River(5)\n",
    "river.display()"
   ],
   "metadata": {
    "collapsed": false,
    "pycharm": {
     "name": "#%%\n",
     "is_executing": false
    }
   }
  },
  {
   "cell_type": "code",
   "execution_count": 78,
   "outputs": [
    {
     "name": "stdout",
     "text": [
      "Fish(0)  moves  right\nEcosystem status:\n\n[Fish(0), Fish(1), Fish(2), None, Bear(4)] \n\nNothing happens...\nEcosystem status:\n\n[Fish(0), Fish(1), Fish(2), None, Bear(4)] \n\nFish(1)  moves  right\nEcosystem status:\n\n[Fish(0), Fish(1), Fish(2), None, Bear(4)] \n\nBear(4)  moves  right\nEcosystem status:\n\n[Fish(0), Fish(1), Fish(2), None, Bear(4)] \n\nFish(1)  moves  right\nEcosystem status:\n\n[Fish(0), Fish(1), Fish(2), None, Bear(4)] \n\nFish(0)  moves  right\nEcosystem status:\n\n[Fish(0), Fish(1), Fish(2), None, Bear(4)] \n\nFish(1)  moves  left\nEcosystem status:\n\n[Fish(0), Fish(1), Fish(2), None, Bear(4)] \n\nFish(1)  moves  left\nEcosystem status:\n\n[Fish(0), Fish(1), Fish(2), None, Bear(4)] \n\nFish(0)  moves  left\nEcosystem status:\n\n[Fish(0), Fish(1), Fish(2), None, Bear(4)] \n\nBear(4)  moves  right\nEcosystem status:\n\n[Fish(0), Fish(1), Fish(2), None, Bear(4)] \n\n"
     ],
     "output_type": "stream"
    }
   ],
   "source": [
    "river.next_time_step(10)\n"
   ],
   "metadata": {
    "collapsed": false,
    "pycharm": {
     "name": "#%%\n",
     "is_executing": false
    }
   }
  }
 ],
 "metadata": {
  "kernelspec": {
   "display_name": "Python 3",
   "language": "python",
   "name": "python3"
  },
  "language_info": {
   "codemirror_mode": {
    "name": "ipython",
    "version": 3
   },
   "file_extension": ".py",
   "mimetype": "text/x-python",
   "name": "python",
   "nbconvert_exporter": "python",
   "pygments_lexer": "ipython3",
   "version": "3.6.0"
  },
  "pycharm": {
   "stem_cell": {
    "cell_type": "raw",
    "source": [],
    "metadata": {
     "collapsed": false
    }
   }
  }
 },
 "nbformat": 4,
 "nbformat_minor": 2
}