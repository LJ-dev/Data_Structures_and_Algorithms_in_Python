{
 "cells": [
  {
   "cell_type": "markdown",
   "metadata": {},
   "source": [
    "# Projects: P-2.36"
   ]
  },
  {
   "cell_type": "markdown",
   "metadata": {},
   "source": [
    "Write a Python program to simulate an ecosystem containing two types of creatures, bears and fish. The ecosystem consists of a river, which is modeled as a relatively large list. Each element of the list should be a Bear object, a Fish object, or None. In each time step, bsed on a random process, each animal either attempts to move into an adjacent list location or stay where it is. If two animals of the same type are about to collide in the same cell, then they stay where they are, but they create a new instance of that type of animal, which is placed in a random empty (i.e., previously None) location in the list. If a bear and a fish collide, however, then the fish died (i.e., it disappears)."
   ]
  },
  {
   "cell_type": "markdown",
   "metadata": {},
   "source": [
    "## Answer:"
   ]
  },
  {
   "cell_type": "markdown",
   "metadata": {},
   "source": [
    "Let's make a class called ``River``:"
   ]
  },
  {
   "cell_type": "code",
   "execution_count": 30,
   "metadata": {
    "collapsed": true
   },
   "outputs": [],
   "source": [
    "import numpy as np\n",
    "\n",
    "class River(object):\n",
    "\n",
    "    def __init__(self, n_room=10, n_animal=8):\n",
    "        self._n_room = n_room\n",
    "        self._eco = []\n",
    "        self._n_bear = np.random.randint(0, n_animal)\n",
    "        self._n_fish = n_animal - self._n_bear\n",
    "        for i in range(self._n_bear):\n",
    "            self._eco.append(\"B\")    # Bear\n",
    "        for i in range(self._n_fish):\n",
    "            self._eco.append(\"F\")    # Fish\n",
    "        for i in range(n_room - n_animal):\n",
    "            self._eco.append(\"N\")    # None\n",
    "        np.random.shuffle(self._eco)\n",
    "\n",
    "    def get_eco(self):\n",
    "        print(\"Eco Status: \", self._eco)\n",
    "        print(\"Number of Bears: \", self._n_bear)\n",
    "        print(\"Number of Fishes: \", self._n_fish)\n",
    "\n",
    "    def add_bear(self, n):\n",
    "        if self._eco[n] == \"B\":\n",
    "            print(\"Rejected: Already Occupied.\")\n",
    "        elif self._eco[n] == \"N\":\n",
    "            self._eco[n] = \"B\"\n",
    "            self._n_bear += 1\n",
    "        else:\n",
    "            print(\"Bear eats Fish!\")\n",
    "            self._eco[n] = \"B\"\n",
    "            self._n_bear += 1\n",
    "            self._n_fish -= 1\n",
    "\n",
    "    def add_fish(self, n):\n",
    "        if self._eco[n] == \"F\":\n",
    "            print(\"Rejected: Already occupied by another fish.\")\n",
    "        elif self._eco[n] == \"N\":\n",
    "            self._eco[n] = \"F\"\n",
    "            self._n_fish += 1\n",
    "        else:\n",
    "            print(\"Rejected: Already occupied by a bear.\")\n",
    "\n",
    "    def kill(self, n):\n",
    "        if self._eco[n] == \"B\":\n",
    "            self._eco[n] == \"N\"\n",
    "            self._n_bear -= 1\n",
    "        elif self._eco[n] == \"F\":\n",
    "            self._eco[n] == \"N\"\n",
    "            self._n_fish -= 1\n",
    "        else:\n",
    "            print(\"Already Empty\")"
   ]
  },
  {
   "cell_type": "markdown",
   "metadata": {},
   "source": [
    "Now test this class by making sample_river:"
   ]
  },
  {
   "cell_type": "code",
   "execution_count": 33,
   "metadata": {},
   "outputs": [],
   "source": [
    "sample_river = River(20,14)"
   ]
  },
  {
   "cell_type": "markdown",
   "metadata": {},
   "source": [
    "Let's see how our ecosystem is composed:"
   ]
  },
  {
   "cell_type": "code",
   "execution_count": 34,
   "metadata": {},
   "outputs": [
    {
     "name": "stdout",
     "output_type": "stream",
     "text": [
      "Eco Status:  ['N', 'F', 'B', 'F', 'F', 'F', 'B', 'N', 'F', 'F', 'N', 'B', 'B', 'B', 'F', 'N', 'F', 'N', 'N', 'B']\n",
      "Number of Bears:  6\n",
      "Number of Fishes:  8\n"
     ]
    }
   ],
   "source": [
    "sample_river.get_eco()"
   ]
  },
  {
   "cell_type": "markdown",
   "metadata": {},
   "source": [
    "Now, let's add animals for several cases:"
   ]
  },
  {
   "cell_type": "code",
   "execution_count": 35,
   "metadata": {},
   "outputs": [
    {
     "name": "stdout",
     "output_type": "stream",
     "text": [
      "Eco Status:  ['B', 'F', 'B', 'F', 'F', 'F', 'B', 'N', 'F', 'F', 'N', 'B', 'B', 'B', 'F', 'N', 'F', 'N', 'N', 'B']\n",
      "Number of Bears:  7\n",
      "Number of Fishes:  8\n"
     ]
    }
   ],
   "source": [
    "sample_river.add_bear(0)\n",
    "sample_river.get_eco()"
   ]
  },
  {
   "cell_type": "code",
   "execution_count": 36,
   "metadata": {},
   "outputs": [
    {
     "name": "stdout",
     "output_type": "stream",
     "text": [
      "Bear eats Fish!\n",
      "Eco Status:  ['B', 'B', 'B', 'F', 'F', 'F', 'B', 'N', 'F', 'F', 'N', 'B', 'B', 'B', 'F', 'N', 'F', 'N', 'N', 'B']\n",
      "Number of Bears:  8\n",
      "Number of Fishes:  7\n"
     ]
    }
   ],
   "source": [
    "sample_river.add_bear(1)\n",
    "sample_river.get_eco()"
   ]
  },
  {
   "cell_type": "code",
   "execution_count": 37,
   "metadata": {},
   "outputs": [
    {
     "name": "stdout",
     "output_type": "stream",
     "text": [
      "Eco Status:  ['B', 'B', 'B', 'F', 'F', 'F', 'B', 'N', 'F', 'F', 'N', 'B', 'B', 'B', 'F', 'N', 'F', 'N', 'B', 'B']\n",
      "Number of Bears:  9\n",
      "Number of Fishes:  7\n"
     ]
    }
   ],
   "source": [
    "sample_river.add_bear(-2)\n",
    "sample_river.get_eco()"
   ]
  },
  {
   "cell_type": "code",
   "execution_count": 38,
   "metadata": {},
   "outputs": [
    {
     "name": "stdout",
     "output_type": "stream",
     "text": [
      "Rejected: Already occupied by a bear.\n",
      "Eco Status:  ['B', 'B', 'B', 'F', 'F', 'F', 'B', 'N', 'F', 'F', 'N', 'B', 'B', 'B', 'F', 'N', 'F', 'N', 'B', 'B']\n",
      "Number of Bears:  9\n",
      "Number of Fishes:  7\n"
     ]
    }
   ],
   "source": [
    "sample_river.add_fish(0)\n",
    "sample_river.get_eco()"
   ]
  },
  {
   "cell_type": "code",
   "execution_count": 39,
   "metadata": {},
   "outputs": [
    {
     "name": "stdout",
     "output_type": "stream",
     "text": [
      "Rejected: Already occupied by another fish.\n",
      "Eco Status:  ['B', 'B', 'B', 'F', 'F', 'F', 'B', 'N', 'F', 'F', 'N', 'B', 'B', 'B', 'F', 'N', 'F', 'N', 'B', 'B']\n",
      "Number of Bears:  9\n",
      "Number of Fishes:  7\n"
     ]
    }
   ],
   "source": [
    "sample_river.add_fish(3)\n",
    "sample_river.get_eco()"
   ]
  },
  {
   "cell_type": "code",
   "execution_count": 40,
   "metadata": {},
   "outputs": [
    {
     "name": "stdout",
     "output_type": "stream",
     "text": [
      "Eco Status:  ['B', 'B', 'B', 'F', 'F', 'F', 'B', 'N', 'F', 'F', 'N', 'B', 'B', 'B', 'F', 'N', 'F', 'F', 'B', 'B']\n",
      "Number of Bears:  9\n",
      "Number of Fishes:  8\n"
     ]
    }
   ],
   "source": [
    "sample_river.add_fish(-3)\n",
    "sample_river.get_eco()"
   ]
  },
  {
   "cell_type": "code",
   "execution_count": 41,
   "metadata": {},
   "outputs": [
    {
     "name": "stdout",
     "output_type": "stream",
     "text": [
      "Eco Status:  ['B', 'B', 'B', 'F', 'F', 'F', 'B', 'N', 'F', 'F', 'N', 'B', 'B', 'B', 'F', 'N', 'F', 'F', 'B', 'B']\n",
      "Number of Bears:  8\n",
      "Number of Fishes:  8\n"
     ]
    }
   ],
   "source": [
    "sample_river.kill(1)\n",
    "sample_river.get_eco()"
   ]
  }
 ],
 "metadata": {
  "kernelspec": {
   "display_name": "Python 3",
   "language": "python",
   "name": "python3"
  },
  "language_info": {
   "codemirror_mode": {
    "name": "ipython",
    "version": 3
   },
   "file_extension": ".py",
   "mimetype": "text/x-python",
   "name": "python",
   "nbconvert_exporter": "python",
   "pygments_lexer": "ipython3",
   "version": "3.6.0"
  }
 },
 "nbformat": 4,
 "nbformat_minor": 2
}
