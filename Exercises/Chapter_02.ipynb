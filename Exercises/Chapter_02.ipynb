{
 "cells": [
  {
   "cell_type": "markdown",
   "metadata": {
    "pycharm": {}
   },
   "source": [
    "# Chapter 02: OOP"
   ]
  },
  {
   "cell_type": "markdown",
   "metadata": {
    "pycharm": {}
   },
   "source": [
    "## Modules"
   ]
  },
  {
   "cell_type": "code",
   "execution_count": 36,
   "metadata": {
    "pycharm": {
     "is_executing": false,
     "name": "#%%\n"
    }
   },
   "outputs": [],
   "source": [
    "import numpy as np\n",
    "import time"
   ]
  },
  {
   "cell_type": "markdown",
   "metadata": {
    "pycharm": {}
   },
   "source": [
    "## Exercises"
   ]
  },
  {
   "cell_type": "markdown",
   "metadata": {
    "pycharm": {
     "name": "#%% md\n"
    }
   },
   "source": [
    "### R-2.9\n",
    "Implement the `__sub__` method for the `Vector` class of Section 2.3.3, so that the expression `u - v` returns a new vector instance representing the difference between two vectors.\n",
    "### R-2.10\n",
    "Implement the `__neg__` method for the `Vector` class of Section 2.3.3, os that the expression `-v` returns a new vector instance whose coordinates are all the negated values of the respective coordinates of `v`.\n",
    "### R-2.11\n",
    "In Section 2.3.3, we note that `Vector` clas supports a syntax such as `v = u + [5, 3, 10, -2, 1]`, in which the sum, of a vector and list returns a new vector. However, the syntax `v = [5, 3, 10, -2, 1] + u` is illegal. Explain how the `Vector` class definition can be revised so that this syntax generates a new vector.\n",
    "### R-2.12\n",
    "Implement the `__mul__` method for `Vector` class of Section 2.3.3, so that the expression `v * 3` returns a new vector with coordinates that are 3 times the respective coordinates of `v`.\n",
    "### R-2.13\n",
    "Exercise R-2.12 asks for an implementation of `__mul__`, for the `Vector` class of Section 2.3.3, to provide support for the syntax `v * 3`. Implement the `__rmul__` method, to provide additional support for syntax `3 * v`.\n",
    "### R-2.14\n",
    "Implement the `__mul__` mehtod for the `Vector` class of Section 2.3.3, so that the expression `u * v` returns a scalar that represents the dot product of the vectors, that is $\\sum_{i=1}^d u_i \\cdot v_i$.\n",
    "### R-2.15\n",
    "The `Vector` class of Section 2.3. provides a constructor that takes an integer `d`, and produces a d-dimensional vector with all coordinates equal to 0. Another convenient form for creating a new vector would be to send the constructor a parameter that is some iterable type representing a sequece of numbers, and to create a vector with dimension equal to the length of that sequence and coordinates equal to the sequence values. For example, `Vector([4, 7, 5])` would produce a three-dimensional vector with coordinates `<4, 7, 5>`. Modify the constructor so that either of these form is acceptable; that is, if a single integer is sent, it produces a vector of that dimension with all zeros, but if a sequence of numbers is provided, it produces a vector with coordinates based on that sequence."
   ]
  },
  {
   "cell_type": "markdown",
   "metadata": {
    "pycharm": {
     "name": "#%% md\n"
    }
   },
   "source": [
    "#### Solution"
   ]
  },
  {
   "cell_type": "code",
   "execution_count": 37,
   "metadata": {
    "pycharm": {
     "is_executing": false,
     "name": "#%%\n"
    }
   },
   "outputs": [],
   "source": [
    "class Vector:\n",
    "    \"\"\"Represent a vector in a multidimensional space\"\"\"\n",
    "    \n",
    "    def __init__(self, value):\n",
    "        \"\"\"Create d-dimensional vector of zeros.\"\"\"\n",
    "        \n",
    "        if isinstance(value, int):\n",
    "            self._coords = [0] * value\n",
    "        elif isinstance(value, list):\n",
    "            self._coords = [i for i in value]\n",
    "        else:\n",
    "            raise ValueError('Vector accepts int or list only')\n",
    "        \n",
    "    def __len__(self):\n",
    "        \"\"\"Return the dimension of the vector.\"\"\"\n",
    "        return len(self._coords)\n",
    "    \n",
    "    def __getitem__(self, j):\n",
    "        \"\"\"Return jth coordinate of vector.\"\"\"\n",
    "        return self._coords[j]\n",
    "    \n",
    "    def __setitem__(self, j, val):\n",
    "        \"\"\"Set jth coordinate of vector to given value.\"\"\"\n",
    "        self._coords[j] = val\n",
    "    \n",
    "    def __add__(self, other):\n",
    "        \"\"\"Return sum of two vectors.\"\"\"\n",
    "        if len(self) != len(other):\n",
    "            raise ValueError('dimensions must agree')\n",
    "        result = Vector(len(self))\n",
    "        for j in range(len(self)):\n",
    "            result[j] = self[j] + other[j]\n",
    "        return result\n",
    "    \n",
    "    def __radd__(self, other):\n",
    "        \"\"\"Return sum of two vectors.\"\"\"\n",
    "        if len(self) != len(other):\n",
    "            raise ValueError('dimensions must agree')\n",
    "        result = Vector(len(self))\n",
    "        for j in range(len(self)):\n",
    "            result[j] = self[j] + other[j]\n",
    "        return result\n",
    "    \n",
    "    def __sub__(self, other):\n",
    "        \"\"\"Return subtraction of two vectors.\"\"\"\n",
    "        if len(self)!= len(other):\n",
    "            raise ValueError('dimensions must agree')\n",
    "        result = Vector(len(self))\n",
    "        for j in range(len(self)):\n",
    "            result[j] = self[j] - other[j]\n",
    "        return result\n",
    "    \n",
    "    def __mul__(self, other):\n",
    "        \"\"\"Return multiplication of a scalar or a vector\"\"\"\n",
    "        if isinstance(other, (int, float)):\n",
    "            result = Vector(len(self))\n",
    "            for j in range(len(self)):\n",
    "                result[j] = self[j] * other\n",
    "        elif len(self) == len(other):\n",
    "            result = Vector(len(self))\n",
    "            for j in range(len(self)):\n",
    "                result[j] = self[j] * other[j]\n",
    "        else:\n",
    "            raise ValueError('multiplicand should be a scalar or a vector with same dimension as multiplier')\n",
    "        \n",
    "        return result\n",
    "    \n",
    "    def __rmul__(self, other):\n",
    "        \"\"\"Return multiplication of a scalar or a vector\"\"\"\n",
    "        if isinstance(other, (int, float)):\n",
    "            result = Vector(len(self))\n",
    "            for j in range(len(self)):\n",
    "                result[j] = self[j] * other\n",
    "        elif len(self) == len(other):\n",
    "            result = Vector(len(self))\n",
    "            for j in range(len(self)):\n",
    "                result[j] = self[j] * other[j]\n",
    "        else:\n",
    "            raise ValueError('multiplicand should be a scalar or a vector with same dimension as multiplier')\n",
    "        \n",
    "        return result\n",
    "    \n",
    "    def __neg__(self):\n",
    "        result = Vector(len(self))\n",
    "        for j in range(len(self)):\n",
    "            result[j] = -self[j]\n",
    "        return result\n",
    "        \n",
    "    def __eq__(self, other):\n",
    "        \"\"\"Return True if vectgor has same coordinates as other.\"\"\"\n",
    "        return self._coords == other._coords\n",
    "    \n",
    "    def __ne__(self, other):\n",
    "        \"\"\"Return True if vector differs from other.\"\"\"\n",
    "        return not self == other  # This rely on existing __eq__ definition\n",
    "    \n",
    "    def __str__(self):\n",
    "        \"\"\"Produce string representation of vector.\"\"\"\n",
    "        return '<' + str(self._coords)[1:-1] + '>'\n",
    "    \n",
    "    def __repr__(self):\n",
    "        \"\"\"For representation.\"\"\"\n",
    "        return 'Vector(%r)' % self._coords\n",
    "    "
   ]
  },
  {
   "cell_type": "code",
   "execution_count": 38,
   "metadata": {
    "pycharm": {
     "is_executing": false,
     "name": "#%%\n"
    }
   },
   "outputs": [
    {
     "data": {
      "text/plain": [
       "Vector([1, 2, 3])"
      ]
     },
     "execution_count": 38,
     "metadata": {},
     "output_type": "execute_result"
    }
   ],
   "source": [
    "x = Vector(3)\n",
    "x[0] = 1; x[1] = 2; x[2] = 3\n",
    "x"
   ]
  },
  {
   "cell_type": "code",
   "execution_count": 39,
   "metadata": {
    "pycharm": {
     "is_executing": false,
     "name": "#%%\n"
    }
   },
   "outputs": [
    {
     "data": {
      "text/plain": [
       "Vector([2, 3, 4])"
      ]
     },
     "execution_count": 39,
     "metadata": {},
     "output_type": "execute_result"
    }
   ],
   "source": [
    "y = Vector(3)\n",
    "y[0] = 2; y[1] = 3; y[2] = 4\n",
    "y"
   ]
  },
  {
   "cell_type": "code",
   "execution_count": 40,
   "metadata": {
    "pycharm": {
     "is_executing": false,
     "name": "#%%\n"
    }
   },
   "outputs": [
    {
     "data": {
      "text/plain": [
       "Vector([-1, -1, -1])"
      ]
     },
     "execution_count": 40,
     "metadata": {},
     "output_type": "execute_result"
    }
   ],
   "source": [
    "# R-2.9\n",
    "x - y"
   ]
  },
  {
   "cell_type": "code",
   "execution_count": 41,
   "metadata": {
    "pycharm": {
     "is_executing": false,
     "name": "#%%\n"
    }
   },
   "outputs": [
    {
     "data": {
      "text/plain": [
       "Vector([-1, -2, -3])"
      ]
     },
     "execution_count": 41,
     "metadata": {},
     "output_type": "execute_result"
    }
   ],
   "source": [
    "# R-2.10\n",
    "-x "
   ]
  },
  {
   "cell_type": "code",
   "execution_count": 42,
   "metadata": {
    "pycharm": {
     "is_executing": false,
     "name": "#%%\n"
    }
   },
   "outputs": [
    {
     "data": {
      "text/plain": [
       "Vector([4, 4, 4])"
      ]
     },
     "execution_count": 42,
     "metadata": {},
     "output_type": "execute_result"
    }
   ],
   "source": [
    "# R-2.11\n",
    "[3, 2, 1] + x"
   ]
  },
  {
   "cell_type": "code",
   "execution_count": 43,
   "metadata": {
    "pycharm": {
     "is_executing": false,
     "name": "#%%\n"
    }
   },
   "outputs": [
    {
     "data": {
      "text/plain": [
       "Vector([3, 6, 9])"
      ]
     },
     "execution_count": 43,
     "metadata": {},
     "output_type": "execute_result"
    }
   ],
   "source": [
    "# R-2.12\n",
    "x * 3"
   ]
  },
  {
   "cell_type": "code",
   "execution_count": 44,
   "metadata": {
    "pycharm": {
     "is_executing": false,
     "name": "#%%\n"
    }
   },
   "outputs": [
    {
     "data": {
      "text/plain": [
       "Vector([3, 6, 9])"
      ]
     },
     "execution_count": 44,
     "metadata": {},
     "output_type": "execute_result"
    }
   ],
   "source": [
    "# R-2.13\n",
    "3 * x"
   ]
  },
  {
   "cell_type": "code",
   "execution_count": 45,
   "metadata": {
    "pycharm": {
     "is_executing": false,
     "name": "#%%\n"
    }
   },
   "outputs": [
    {
     "data": {
      "text/plain": [
       "Vector([1, 4, 9])"
      ]
     },
     "execution_count": 45,
     "metadata": {},
     "output_type": "execute_result"
    }
   ],
   "source": [
    "# R-2.14\n",
    "x * [1, 2, 3]"
   ]
  },
  {
   "cell_type": "code",
   "execution_count": 46,
   "metadata": {
    "pycharm": {
     "is_executing": false,
     "name": "#%%\n"
    }
   },
   "outputs": [
    {
     "data": {
      "text/plain": [
       "Vector([110, 13, 5])"
      ]
     },
     "execution_count": 46,
     "metadata": {},
     "output_type": "execute_result"
    }
   ],
   "source": [
    "# R-2.14\n",
    "u = Vector([18, 3, 3])\n",
    "v = Vector([92, 10, 2])\n",
    "u + v"
   ]
  },
  {
   "cell_type": "markdown",
   "metadata": {
    "pycharm": {
     "name": "#%% md\n"
    }
   },
   "source": [
    "### C-2.27\n",
    "In Section 2.3.5, we note that our version of the Range class has implicit support for iteration, due to its explicit support of both `__len__` and `__getitem__`. The class also receives implicit support of the Boolean test, `k in r` for Range `r`. This test is evaluated based on a forward iteration through the range, as evidenced by the relative quickness of the test `2 in Range(10000000)` versus `9999999 in Range(10000000)`. Provide a more efficient implementation of the `__contains__` method to determine whether a particular value lies within a given range. The running time of your method should be independent of the length of the range."
   ]
  },
  {
   "cell_type": "code",
   "execution_count": 47,
   "metadata": {
    "pycharm": {
     "is_executing": false,
     "name": "#%%\n"
    }
   },
   "outputs": [],
   "source": [
    "class Range:\n",
    "    \"\"\"A class that mimic's the built-in range class.\"\"\"\n",
    "    \n",
    "    def __init__(self, start, stop=None, step=None):\n",
    "        \"\"\"Initialize a Range Instance\n",
    "        Semantics is similar to built-in range class\n",
    "        \"\"\"\n",
    "        if step == 0:\n",
    "            raise ValueError('step cannot be 0')\n",
    "\n",
    "        if start < 0 and stop < 0 and step is None:\n",
    "            step = -1\n",
    "        elif step is None:\n",
    "            step = 1\n",
    "        else:\n",
    "            step = step\n",
    "            \n",
    "        if stop is None:\n",
    "            start, stop = 0, start\n",
    "            \n",
    "        # calculate the effective length once\n",
    "        end = (abs(stop - start) + abs(step) -1) // abs(step)\n",
    "        \n",
    "        if start < 0 and stop < 0 and stop < start and step > 0:\n",
    "            self._length = 0\n",
    "        else:\n",
    "            self._length = max(0, end)\n",
    "        \n",
    "        # need knowledge of start and step (but not step) to support _getitem__\n",
    "        self._start = start\n",
    "        self._step = step\n",
    "        \n",
    "    def __len__(self):\n",
    "        \"\"\"Return number of entries in the range.\"\"\"\n",
    "        return self._length\n",
    "    \n",
    "    def __getitem__(self, k):\n",
    "        \"\"\"Return entry at index k (using standard interpretation if negative.)\"\"\"\n",
    "        if k < 0:\n",
    "            k += len(self)\n",
    "        \n",
    "        if not 0 <= k < self._length:\n",
    "            raise IndexError('index out of range')\n",
    "        \n",
    "        return self._start + k * self._step\n"
   ]
  },
  {
   "cell_type": "code",
   "execution_count": 48,
   "metadata": {
    "pycharm": {
     "is_executing": false,
     "name": "#%%\n"
    }
   },
   "outputs": [
    {
     "name": "stdout",
     "output_type": "stream",
     "text": [
      "9.918212890625e-05\n",
      "1.1961393356323242\n"
     ]
    }
   ],
   "source": [
    "start = time.time()\n",
    "2 in Range(2, 10, 2)\n",
    "end = time.time()\n",
    "print(end - start)\n",
    "\n",
    "start = time.time()\n",
    "9999998 in Range(2, 10000000, 2)\n",
    "end = time.time()\n",
    "print(end - start)"
   ]
  },
  {
   "cell_type": "markdown",
   "metadata": {
    "pycharm": {
     "is_executing": false,
     "name": "#%% md\n"
    }
   },
   "source": [
    "We've just confirmed that implicit iteration is not efficient for our `Range` class. Let's improve it! by defining a custom `__contains__`."
   ]
  },
  {
   "cell_type": "markdown",
   "metadata": {
    "pycharm": {
     "name": "#%% md\n"
    }
   },
   "source": [
    "#### Solution"
   ]
  },
  {
   "cell_type": "code",
   "execution_count": 49,
   "metadata": {
    "pycharm": {
     "is_executing": false,
     "name": "#%%\n"
    }
   },
   "outputs": [],
   "source": [
    "class Range:\n",
    "    \"\"\"A class that mimic's the built-in range class.\"\"\"\n",
    "    \n",
    "    def __init__(self, start, stop=None, step=None):\n",
    "        \"\"\"Initialize a Range Instance\n",
    "        Semantics is similar to built-in range class\n",
    "        \"\"\"\n",
    "        if step == 0:\n",
    "            raise ValueError('step cannot be 0')\n",
    "\n",
    "        if start < 0 and stop < 0 and step is None:\n",
    "            step = -1\n",
    "        elif step is None:\n",
    "            step = 1\n",
    "        else:\n",
    "            step = step\n",
    "            \n",
    "        if stop is None:\n",
    "            start, stop = 0, start\n",
    "            \n",
    "        # calculate the effective length once\n",
    "        end = (abs(stop - start) + abs(step) -1) // abs(step)\n",
    "        \n",
    "        if start < 0 and stop < 0 and stop < start and step > 0:\n",
    "            self._length = 0\n",
    "        else:\n",
    "            self._length = max(0, end)\n",
    "        \n",
    "        # need knowledge of start and step (but not step) to support _getitem__\n",
    "        self._start = start\n",
    "        self._step = step\n",
    "        \n",
    "    def __len__(self):\n",
    "        \"\"\"Return number of entries in the range.\"\"\"\n",
    "        return self._length\n",
    "    \n",
    "    def __getitem__(self, k):\n",
    "        \"\"\"Return entry at index k (using standard interpretation if negative.)\"\"\"\n",
    "        if k < 0:\n",
    "            k += len(self)\n",
    "        \n",
    "        if not 0 <= k < self._length:\n",
    "            raise IndexError('index out of range')\n",
    "        \n",
    "        return self._start + k * self._step\n",
    "\n",
    "    def __contains__(self, item):\n",
    "        if ((item - self._start) % self._step == 0) and (item != (self[self._length-1] + self._step)):\n",
    "            return True\n",
    "        else:\n",
    "            return False"
   ]
  },
  {
   "cell_type": "code",
   "execution_count": 50,
   "metadata": {
    "pycharm": {
     "is_executing": false,
     "name": "#%%\n"
    }
   },
   "outputs": [
    {
     "name": "stdout",
     "output_type": "stream",
     "text": [
      "0.00017380714416503906\n",
      "0.00016236305236816406\n"
     ]
    }
   ],
   "source": [
    "start = time.time()\n",
    "2 in Range(2, 10, 2)\n",
    "end = time.time()\n",
    "print(end - start)\n",
    "\n",
    "start = time.time()\n",
    "9999998 in Range(2, 10000000, 2)\n",
    "end = time.time()\n",
    "print(end - start)"
   ]
  },
  {
   "cell_type": "markdown",
   "metadata": {},
   "source": [
    "# Negative range test"
   ]
  },
  {
   "cell_type": "markdown",
   "metadata": {},
   "source": [
    "Thanks to [@mamikon88](https://github.com/mamikon88)' from [issue#10](https://github.com/jihoonerd/Data_Structures_and_Algorithms_in_Python/issues/10), following cases are fixed."
   ]
  },
  {
   "cell_type": "code",
   "execution_count": 51,
   "metadata": {},
   "outputs": [
    {
     "data": {
      "text/plain": [
       "[]"
      ]
     },
     "execution_count": 51,
     "metadata": {},
     "output_type": "execute_result"
    }
   ],
   "source": [
    "R = Range(-1, -5, 1)\n",
    "list(R)"
   ]
  },
  {
   "cell_type": "code",
   "execution_count": 52,
   "metadata": {},
   "outputs": [
    {
     "data": {
      "text/plain": [
       "0"
      ]
     },
     "execution_count": 52,
     "metadata": {},
     "output_type": "execute_result"
    }
   ],
   "source": [
    "len(R)"
   ]
  },
  {
   "cell_type": "code",
   "execution_count": 53,
   "metadata": {},
   "outputs": [
    {
     "data": {
      "text/plain": [
       "[]"
      ]
     },
     "execution_count": 53,
     "metadata": {},
     "output_type": "execute_result"
    }
   ],
   "source": [
    "r = range(-1, -5, 1)\n",
    "list(r)"
   ]
  },
  {
   "cell_type": "code",
   "execution_count": 54,
   "metadata": {},
   "outputs": [
    {
     "data": {
      "text/plain": [
       "0"
      ]
     },
     "execution_count": 54,
     "metadata": {},
     "output_type": "execute_result"
    }
   ],
   "source": [
    "len(r)"
   ]
  },
  {
   "cell_type": "markdown",
   "metadata": {},
   "source": [
    "---"
   ]
  },
  {
   "cell_type": "code",
   "execution_count": 55,
   "metadata": {},
   "outputs": [
    {
     "data": {
      "text/plain": [
       "[-1, -3, -5]"
      ]
     },
     "execution_count": 55,
     "metadata": {},
     "output_type": "execute_result"
    }
   ],
   "source": [
    "R = Range(-1, -7, -2) \n",
    "list(R)"
   ]
  },
  {
   "cell_type": "code",
   "execution_count": 56,
   "metadata": {},
   "outputs": [
    {
     "data": {
      "text/plain": [
       "3"
      ]
     },
     "execution_count": 56,
     "metadata": {},
     "output_type": "execute_result"
    }
   ],
   "source": [
    "len(R)"
   ]
  },
  {
   "cell_type": "code",
   "execution_count": 57,
   "metadata": {},
   "outputs": [
    {
     "data": {
      "text/plain": [
       "[-1, -3, -5]"
      ]
     },
     "execution_count": 57,
     "metadata": {},
     "output_type": "execute_result"
    }
   ],
   "source": [
    "r = range(-1, -7, -2)\n",
    "list(r)"
   ]
  },
  {
   "cell_type": "code",
   "execution_count": 58,
   "metadata": {},
   "outputs": [
    {
     "data": {
      "text/plain": [
       "3"
      ]
     },
     "execution_count": 58,
     "metadata": {},
     "output_type": "execute_result"
    }
   ],
   "source": [
    "len(r)"
   ]
  },
  {
   "cell_type": "code",
   "execution_count": 59,
   "metadata": {},
   "outputs": [],
   "source": [
    "assert list(R) == list(r)"
   ]
  },
  {
   "cell_type": "markdown",
   "metadata": {},
   "source": [
    "---"
   ]
  },
  {
   "cell_type": "code",
   "execution_count": 60,
   "metadata": {
    "scrolled": true
   },
   "outputs": [
    {
     "data": {
      "text/plain": [
       "[-1, -2, -3, -4, -5, -6]"
      ]
     },
     "execution_count": 60,
     "metadata": {},
     "output_type": "execute_result"
    }
   ],
   "source": [
    "R = Range(-1, -7, -1) \n",
    "list(R)"
   ]
  },
  {
   "cell_type": "code",
   "execution_count": 61,
   "metadata": {},
   "outputs": [
    {
     "data": {
      "text/plain": [
       "[-1, -2, -3, -4, -5, -6]"
      ]
     },
     "execution_count": 61,
     "metadata": {},
     "output_type": "execute_result"
    }
   ],
   "source": [
    "r = range(-1, -7, -1)\n",
    "list(r)"
   ]
  },
  {
   "cell_type": "markdown",
   "metadata": {},
   "source": [
    "---"
   ]
  },
  {
   "cell_type": "code",
   "execution_count": 62,
   "metadata": {
    "scrolled": true
   },
   "outputs": [
    {
     "data": {
      "text/plain": [
       "False"
      ]
     },
     "execution_count": 62,
     "metadata": {},
     "output_type": "execute_result"
    }
   ],
   "source": [
    "-7 in R"
   ]
  },
  {
   "cell_type": "code",
   "execution_count": 63,
   "metadata": {},
   "outputs": [
    {
     "data": {
      "text/plain": [
       "False"
      ]
     },
     "execution_count": 63,
     "metadata": {},
     "output_type": "execute_result"
    }
   ],
   "source": [
    "-7 in r"
   ]
  },
  {
   "cell_type": "markdown",
   "metadata": {
    "pycharm": {
     "name": "#%% md\n"
    }
   },
   "source": [
    "### P-2.36\n",
    "Write a Python program to simulate an ecosystem containing two types of creatures, **bears** and **fish**. The ecosystem consists of a river, which is modeled as a relatively large list. Each element of the list should be a `Bear` object, a `Fish` object, or `None`. In each time step, based on a random process, each animal either attempts to move into an adjacent list location or stay where it is. If two animals of the same type are about to collide in the same cell, then they stay where they are, but they create a new instance of that type of animal, which is placed in a random empty (i.e., previously None) location in the list. If a bear and a fish collide, however, then the fish died (i.e., it disappears)."
   ]
  },
  {
   "cell_type": "markdown",
   "metadata": {
    "pycharm": {
     "name": "#%% md\n"
    }
   },
   "source": [
    "#### Solution"
   ]
  },
  {
   "cell_type": "markdown",
   "metadata": {
    "pycharm": {
     "name": "#%% md\n"
    }
   },
   "source": [
    "Let's define Creature and its subclass first."
   ]
  },
  {
   "cell_type": "code",
   "execution_count": 64,
   "metadata": {
    "pycharm": {
     "is_executing": false,
     "name": "#%%\n"
    }
   },
   "outputs": [],
   "source": [
    "from abc import ABCMeta, abstractmethod\n",
    "\n",
    "class Creature(metaclass=ABCMeta):\n",
    "    \n",
    "    def __init__(self, ind):\n",
    "        self.ind = ind  # Index of a creature in ecosystem.\n",
    "    \n",
    "    @abstractmethod\n",
    "    def move(self):\n",
    "        \"\"\"Return index to move\"\"\"\n",
    "        \n",
    "class Bear(Creature):\n",
    "\n",
    "    def __repr__(self):\n",
    "        return \"Bear(%s)\" % self.ind\n",
    "    \n",
    "    def move(self):\n",
    "        to = np.random.choice([-1, 1])\n",
    "        new_ind = self.ind + to\n",
    "        print(self, \"moves\", \"left\" if to == -1 else \"right\")\n",
    "        return new_ind\n",
    "        \n",
    "class Fish(Creature):\n",
    "    \n",
    "    def __repr__(self):\n",
    "        return \"Fish(%s)\" % self.ind\n",
    "    \n",
    "    def move(self):\n",
    "        to = np.random.choice([-1, 1])\n",
    "        new_ind = self.ind + to\n",
    "        print(self, \"moves\", \"left\" if to == -1 else \"right\")\n",
    "        return new_ind       "
   ]
  },
  {
   "cell_type": "markdown",
   "metadata": {
    "pycharm": {
     "name": "#%% md\n"
    }
   },
   "source": [
    "It's time to make our ecosystem, `River` class. I assumed it is more natural to have information about location of creatures in the ecosystem, `River`. "
   ]
  },
  {
   "cell_type": "code",
   "execution_count": 65,
   "metadata": {
    "pycharm": {
     "is_executing": false,
     "name": "#%%\n"
    }
   },
   "outputs": [],
   "source": [
    "class River:\n",
    "    \n",
    "    def __init__(self, n_room):\n",
    "        self.n_room = n_room\n",
    "        self.eco = None\n",
    "    \n",
    "    def initialize(self):\n",
    "        self.eco = []\n",
    "        creatures= np.random.choice([Bear, Fish, None], size=self.n_room)\n",
    "        for ind, creature in enumerate(creatures):\n",
    "            self.eco.append(creature(ind) if creature is not None else None)\n",
    "    \n",
    "    def next_time_step(self, n=1, verbose=True):\n",
    "        for i in range(n):\n",
    "            moving_ind = np.random.choice(list(range(self.n_room)))\n",
    "            if self.eco[moving_ind] is None:\n",
    "                print(\"Nothing happens...\")\n",
    "                pass\n",
    "            else:\n",
    "                new_ind = self.eco[moving_ind].move()\n",
    "                if new_ind < 0 or new_ind > len(self.eco) -1:\n",
    "                    pass\n",
    "                elif isinstance(self.eco[moving_ind], Bear):\n",
    "                    if isinstance(self.eco[new_ind], Bear):\n",
    "                        pass\n",
    "                    elif isinstance(self.eco[new_ind], Fish):\n",
    "                        self.eco[new_ind] = Bear(new_ind)\n",
    "                        self.eco[moving_ind] = None\n",
    "                    else:\n",
    "                        self.eco[new_ind] = Bear(new_ind)\n",
    "                elif isinstance(self.eco[moving_ind], Fish):\n",
    "                    if isinstance(self.eco[new_ind], Fish):\n",
    "                        pass\n",
    "                    elif isinstance(self.eco[new_ind], Bear):\n",
    "                        self.eco[moving_ind] = None\n",
    "                    else:\n",
    "                        self.eco[new_ind] = Fish(new_ind)\n",
    "                else:\n",
    "                    raise ValueError(\"Undefined Creature\")\n",
    "            if verbose:\n",
    "                self.display()\n",
    "        \n",
    "    def display(self):\n",
    "        print(\"===================\")\n",
    "        print(\"Ecosystem status:\\n\")\n",
    "        print(self.eco, \"\\n\")\n",
    "        print(\"===================\")\n"
   ]
  },
  {
   "cell_type": "code",
   "execution_count": 66,
   "metadata": {
    "pycharm": {
     "is_executing": false,
     "name": "#%%\n"
    }
   },
   "outputs": [],
   "source": [
    "river = River(5)"
   ]
  },
  {
   "cell_type": "code",
   "execution_count": 67,
   "metadata": {
    "pycharm": {
     "is_executing": false,
     "name": "#%%\n"
    }
   },
   "outputs": [
    {
     "name": "stdout",
     "output_type": "stream",
     "text": [
      "===================\n",
      "Ecosystem status:\n",
      "\n",
      "[Bear(0), None, None, Bear(3), Bear(4)] \n",
      "\n",
      "===================\n"
     ]
    }
   ],
   "source": [
    "river.initialize()\n",
    "river.display()"
   ]
  },
  {
   "cell_type": "code",
   "execution_count": 68,
   "metadata": {
    "pycharm": {
     "is_executing": false,
     "name": "#%%\n"
    }
   },
   "outputs": [
    {
     "name": "stdout",
     "output_type": "stream",
     "text": [
      "Bear(0) moves left\n",
      "===================\n",
      "Ecosystem status:\n",
      "\n",
      "[Bear(0), None, None, Bear(3), Bear(4)] \n",
      "\n",
      "===================\n",
      "Nothing happens...\n",
      "===================\n",
      "Ecosystem status:\n",
      "\n",
      "[Bear(0), None, None, Bear(3), Bear(4)] \n",
      "\n",
      "===================\n",
      "Bear(0) moves left\n",
      "===================\n",
      "Ecosystem status:\n",
      "\n",
      "[Bear(0), None, None, Bear(3), Bear(4)] \n",
      "\n",
      "===================\n",
      "Nothing happens...\n",
      "===================\n",
      "Ecosystem status:\n",
      "\n",
      "[Bear(0), None, None, Bear(3), Bear(4)] \n",
      "\n",
      "===================\n",
      "Bear(3) moves left\n",
      "===================\n",
      "Ecosystem status:\n",
      "\n",
      "[Bear(0), None, Bear(2), Bear(3), Bear(4)] \n",
      "\n",
      "===================\n",
      "Bear(0) moves right\n",
      "===================\n",
      "Ecosystem status:\n",
      "\n",
      "[Bear(0), Bear(1), Bear(2), Bear(3), Bear(4)] \n",
      "\n",
      "===================\n",
      "Bear(1) moves left\n",
      "===================\n",
      "Ecosystem status:\n",
      "\n",
      "[Bear(0), Bear(1), Bear(2), Bear(3), Bear(4)] \n",
      "\n",
      "===================\n",
      "Bear(3) moves right\n",
      "===================\n",
      "Ecosystem status:\n",
      "\n",
      "[Bear(0), Bear(1), Bear(2), Bear(3), Bear(4)] \n",
      "\n",
      "===================\n",
      "Bear(4) moves left\n",
      "===================\n",
      "Ecosystem status:\n",
      "\n",
      "[Bear(0), Bear(1), Bear(2), Bear(3), Bear(4)] \n",
      "\n",
      "===================\n",
      "Bear(2) moves left\n",
      "===================\n",
      "Ecosystem status:\n",
      "\n",
      "[Bear(0), Bear(1), Bear(2), Bear(3), Bear(4)] \n",
      "\n",
      "===================\n"
     ]
    }
   ],
   "source": [
    "river.next_time_step(10)\n"
   ]
  }
 ],
 "metadata": {
  "kernelspec": {
   "display_name": "Python 3",
   "language": "python",
   "name": "python3"
  },
  "language_info": {
   "codemirror_mode": {
    "name": "ipython",
    "version": 3
   },
   "file_extension": ".py",
   "mimetype": "text/x-python",
   "name": "python",
   "nbconvert_exporter": "python",
   "pygments_lexer": "ipython3",
   "version": "3.8.3"
  },
  "pycharm": {
   "stem_cell": {
    "cell_type": "raw",
    "metadata": {
     "collapsed": false
    },
    "source": []
   }
  }
 },
 "nbformat": 4,
 "nbformat_minor": 2
}
